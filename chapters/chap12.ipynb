{
  "cells": [
    {
      "cell_type": "markdown",
      "id": "1331faa1",
      "metadata": {
        "id": "1331faa1"
      },
      "source": [
        "You can order print and ebook versions of *Think Python 3e* from\n",
        "[Bookshop.org](https://bookshop.org/a/98697/9781098155438) and\n",
        "[Amazon](https://www.amazon.com/_/dp/1098155432?smid=ATVPDKIKX0DER&_encoding=UTF8&tag=oreilly20-20&_encoding=UTF8&tag=greenteapre01-20&linkCode=ur2&linkId=e2a529f94920295d27ec8a06e757dc7c&camp=1789&creative=9325)."
      ]
    },
    {
      "cell_type": "code",
      "execution_count": 1,
      "id": "6c6265de",
      "metadata": {
        "tags": [],
        "id": "6c6265de",
        "outputId": "a85a8857-36ad-4d95-faeb-ec196b3987e5",
        "colab": {
          "base_uri": "https://localhost:8080/"
        }
      },
      "outputs": [
        {
          "output_type": "stream",
          "name": "stdout",
          "text": [
            "Downloaded thinkpython.py\n",
            "Downloaded diagram.py\n"
          ]
        }
      ],
      "source": [
        "from os.path import basename, exists\n",
        "\n",
        "def download(url):\n",
        "    filename = basename(url)\n",
        "    if not exists(filename):\n",
        "        from urllib.request import urlretrieve\n",
        "\n",
        "        local, _ = urlretrieve(url, filename)\n",
        "        print(\"Downloaded \" + str(local))\n",
        "    return filename\n",
        "\n",
        "download('https://github.com/AllenDowney/ThinkPython/raw/v3/thinkpython.py');\n",
        "download('https://github.com/AllenDowney/ThinkPython/raw/v3/diagram.py');\n",
        "\n",
        "import thinkpython"
      ]
    },
    {
      "cell_type": "markdown",
      "id": "59a8621b",
      "metadata": {
        "id": "59a8621b"
      },
      "source": [
        "# Text Analysis and Generation\n",
        "\n",
        "At this point we have covered Python's core data structures -- lists, dictionaries, and tuples -- and some algorithms that use them.\n",
        "In this chapter, we'll use them to explore text analysis and Markov generation:\n",
        "\n",
        "* Text analysis is a way to describe the statistical relationships between the words in a document, like the probability that one word is followed by another, and\n",
        "\n",
        "* Markov generation is a way to generate new text with words and phrases similar to the original text.\n",
        "\n",
        "These algorithms are similar to parts of a Large Language Model (LLM), which is the key component of a chatbot.\n",
        "\n",
        "We'll start by counting the number of times each word appears in a book.\n",
        "Then we'll look at pairs of words, and make a list of the words that can follow each word.\n",
        "We'll make a simple version of a Markov generator, and as an exercise, you'll have a chance to make a more general version."
      ]
    },
    {
      "cell_type": "markdown",
      "id": "0e3811b8",
      "metadata": {
        "id": "0e3811b8"
      },
      "source": [
        "## Unique words\n",
        "\n",
        "As a first step toward text analysis, let's read a book -- *The Strange Case Of Dr. Jekyll And Mr. Hyde* by Robert Louis Stevenson -- and count the number of unique words.\n",
        "Instructions for downloading the book are in the notebook for this chapter."
      ]
    },
    {
      "cell_type": "markdown",
      "id": "6567e1bf",
      "metadata": {
        "tags": [],
        "id": "6567e1bf"
      },
      "source": [
        "The following cell downloads the book from Project Gutenberg."
      ]
    },
    {
      "cell_type": "code",
      "execution_count": 2,
      "id": "4cd1c980",
      "metadata": {
        "tags": [],
        "id": "4cd1c980",
        "outputId": "13f3fee3-6844-47ce-dd4f-ab6827830368",
        "colab": {
          "base_uri": "https://localhost:8080/"
        }
      },
      "outputs": [
        {
          "output_type": "stream",
          "name": "stdout",
          "text": [
            "Downloaded pg43.txt\n"
          ]
        }
      ],
      "source": [
        "download('https://www.gutenberg.org/cache/epub/43/pg43.txt');"
      ]
    },
    {
      "cell_type": "markdown",
      "id": "5465ab1d",
      "metadata": {
        "tags": [],
        "id": "5465ab1d"
      },
      "source": [
        "The version available from Project Gutenberg includes information about the book at the beginning and license information at the end.\n",
        "We'll use `clean_file` from Chapter 8 to remove this material and write a \"clean\" file that contains only the text of the book."
      ]
    },
    {
      "cell_type": "code",
      "execution_count": 8,
      "id": "52ebfe94",
      "metadata": {
        "tags": [],
        "id": "52ebfe94"
      },
      "outputs": [],
      "source": [
        "def is_special_line(line):\n",
        "    return line.strip().startswith('*** ')"
      ]
    },
    {
      "cell_type": "code",
      "execution_count": 9,
      "id": "49cfc352",
      "metadata": {
        "tags": [],
        "id": "49cfc352"
      },
      "outputs": [],
      "source": [
        "def clean_file(input_file, output_file):\n",
        "    reader = open(input_file, encoding='utf-8')\n",
        "    writer = open(output_file, 'w')\n",
        "\n",
        "    for line in reader:\n",
        "        if is_special_line(line):\n",
        "            break\n",
        "\n",
        "    for line in reader:\n",
        "        if is_special_line(line):\n",
        "            break\n",
        "        writer.write(line)\n",
        "\n",
        "    reader.close()\n",
        "    writer.close()"
      ]
    },
    {
      "cell_type": "code",
      "execution_count": 10,
      "id": "44e53ce6",
      "metadata": {
        "id": "44e53ce6"
      },
      "outputs": [],
      "source": [
        "filename = 'dr_jekyll.txt'"
      ]
    },
    {
      "cell_type": "code",
      "execution_count": 11,
      "id": "50d1fafa",
      "metadata": {
        "tags": [],
        "id": "50d1fafa"
      },
      "outputs": [],
      "source": [
        "clean_file('pg43.txt', filename)"
      ]
    },
    {
      "cell_type": "markdown",
      "id": "bc66d7e2",
      "metadata": {
        "id": "bc66d7e2"
      },
      "source": [
        "We'll use a `for` loop to read lines from the file and `split` to divide the lines into words.\n",
        "Then, to keep track of unique words, we'll store each word as a key in a dictionary."
      ]
    },
    {
      "cell_type": "code",
      "execution_count": 12,
      "id": "16d24028",
      "metadata": {
        "id": "16d24028",
        "outputId": "d3551c30-73db-490d-dc5d-fd3f5084059c",
        "colab": {
          "base_uri": "https://localhost:8080/"
        }
      },
      "outputs": [
        {
          "output_type": "execute_result",
          "data": {
            "text/plain": [
              "6040"
            ]
          },
          "metadata": {},
          "execution_count": 12
        }
      ],
      "source": [
        "unique_words = {}\n",
        "for line in open(filename):\n",
        "    seq = line.split()\n",
        "    for word in seq:\n",
        "        unique_words[word] = 1\n",
        "\n",
        "len(unique_words)"
      ]
    },
    {
      "cell_type": "markdown",
      "id": "85171a3a",
      "metadata": {
        "id": "85171a3a"
      },
      "source": [
        "The length of the dictionary is the number of unique words -- about `6000` by this way of counting.\n",
        "But if we inspect them, we'll see that some are not valid words.\n",
        "\n",
        "For example, let's look at the longest words in `unique_words`.\n",
        "We can use `sorted` to sort the words, passing the `len` function as a keyword argument so the words are sorted by length."
      ]
    },
    {
      "cell_type": "code",
      "execution_count": 13,
      "id": "1668e6bd",
      "metadata": {
        "id": "1668e6bd",
        "outputId": "8d0a1fb7-4169-48c4-8715-3549698d66bc",
        "colab": {
          "base_uri": "https://localhost:8080/"
        }
      },
      "outputs": [
        {
          "output_type": "execute_result",
          "data": {
            "text/plain": [
              "['chocolate-coloured',\n",
              " 'superiors—behold!”',\n",
              " 'coolness—frightened',\n",
              " 'gentleman—something',\n",
              " 'pocket-handkerchief.']"
            ]
          },
          "metadata": {},
          "execution_count": 13
        }
      ],
      "source": [
        "sorted(unique_words, key=len)[-5:]"
      ]
    },
    {
      "cell_type": "markdown",
      "id": "795f5327",
      "metadata": {
        "id": "795f5327"
      },
      "source": [
        "The slice index, `[-5:]`, selects the last `5` elements of the sorted list, which are the longest words.\n",
        "\n",
        "The list includes some legitimately long words, like \"circumscription\", and some hyphenated words, like \"chocolate-coloured\".\n",
        "But some of the longest \"words\" are actually two words separated by a dash.\n",
        "And other words include punctuation like periods, exclamation points, and quotation marks.\n",
        "\n",
        "So, before we move on, let's deal with dashes and other punctuation."
      ]
    },
    {
      "cell_type": "markdown",
      "id": "bf89fafa",
      "metadata": {
        "id": "bf89fafa"
      },
      "source": [
        "## Punctuation\n",
        "\n",
        "To identify the words in the text, we need to deal with two issues:\n",
        "\n",
        "* When a dash appears in a line, we should replace it with a space -- then when we use `split`, the words will be separated.\n",
        "\n",
        "* After splitting the words, we can use `strip` to remove punctuation.\n",
        "\n",
        "To handle the first issue, we can use the following function, which takes a string, replaces dashes with spaces, splits the string, and returns the resulting list."
      ]
    },
    {
      "cell_type": "code",
      "execution_count": 15,
      "id": "ed5f0a43",
      "metadata": {
        "id": "ed5f0a43"
      },
      "outputs": [],
      "source": [
        "def split_line(line):\n",
        "    return line.replace('—', ' ').split()"
      ]
    },
    {
      "cell_type": "markdown",
      "id": "d5decdec",
      "metadata": {
        "id": "d5decdec"
      },
      "source": [
        "Notice that `split_line` only replaces dashes, not hyphens.\n",
        "Here's an example."
      ]
    },
    {
      "cell_type": "code",
      "execution_count": 16,
      "id": "a9df2aeb",
      "metadata": {
        "id": "a9df2aeb",
        "outputId": "1a9e87ff-9c7a-4ba1-e0b3-5718e7bc9392",
        "colab": {
          "base_uri": "https://localhost:8080/"
        }
      },
      "outputs": [
        {
          "output_type": "execute_result",
          "data": {
            "text/plain": [
              "['coolness', 'frightened']"
            ]
          },
          "metadata": {},
          "execution_count": 16
        }
      ],
      "source": [
        "split_line('coolness—frightened')"
      ]
    },
    {
      "cell_type": "markdown",
      "id": "0d9eb318",
      "metadata": {
        "id": "0d9eb318"
      },
      "source": [
        "Now, to remove punctuation from the beginning and end of each word, we can use `strip`, but we need a list of characters that are considered punctuation.\n",
        "\n",
        "Characters in Python strings are in Unicode, which is an international standard used to represent letters in nearly every alphabet, numbers, symbols, punctuation marks, and more.\n",
        "The `unicodedata` module provides a `category` function we can use to tell which characters are punctuation.\n",
        "Given a letter, it returns a string with information about what category the letter is in."
      ]
    },
    {
      "cell_type": "code",
      "execution_count": 14,
      "id": "b138b123",
      "metadata": {
        "id": "b138b123",
        "outputId": "c4a9b531-fce0-481d-974b-3b0e76ec4cd7",
        "colab": {
          "base_uri": "https://localhost:8080/",
          "height": 35
        }
      },
      "outputs": [
        {
          "output_type": "execute_result",
          "data": {
            "text/plain": [
              "'Lu'"
            ],
            "application/vnd.google.colaboratory.intrinsic+json": {
              "type": "string"
            }
          },
          "metadata": {},
          "execution_count": 14
        }
      ],
      "source": [
        "import unicodedata\n",
        "\n",
        "unicodedata.category('A')"
      ]
    },
    {
      "cell_type": "markdown",
      "id": "994835ea",
      "metadata": {
        "id": "994835ea"
      },
      "source": [
        "The category string of `'A'` is `'Lu'` -- the `'L'` means it is a letter and the `'u'` means it is uppercase.\n",
        "\n",
        "The category string of `'.'` is `'Po'` -- the `'P'` means it is punctuation and the `'o'` means its subcategory is \"other\"."
      ]
    },
    {
      "cell_type": "code",
      "execution_count": 17,
      "id": "fe65df44",
      "metadata": {
        "id": "fe65df44",
        "outputId": "cbc87cab-5c71-42a2-a4b2-4ed00eae7c9a",
        "colab": {
          "base_uri": "https://localhost:8080/",
          "height": 35
        }
      },
      "outputs": [
        {
          "output_type": "execute_result",
          "data": {
            "text/plain": [
              "'Po'"
            ],
            "application/vnd.google.colaboratory.intrinsic+json": {
              "type": "string"
            }
          },
          "metadata": {},
          "execution_count": 17
        }
      ],
      "source": [
        "unicodedata.category('.')"
      ]
    },
    {
      "cell_type": "markdown",
      "id": "03773b9b",
      "metadata": {
        "id": "03773b9b"
      },
      "source": [
        "We can find the punctuation marks in the book by checking for characters with categories that begin with `'P'`.\n",
        "The following loop stores the unique punctuation marks in a dictionary."
      ]
    },
    {
      "cell_type": "code",
      "execution_count": 20,
      "id": "b47a87cf",
      "metadata": {
        "id": "b47a87cf"
      },
      "outputs": [],
      "source": [
        "punc_marks = {}\n",
        "for line in open(filename):\n",
        "    for char in line:\n",
        "        category = unicodedata.category(char)\n",
        "        if category.startswith('P'):\n",
        "            punc_marks[char] = 1"
      ]
    },
    {
      "cell_type": "markdown",
      "id": "e6741dfa",
      "metadata": {
        "id": "e6741dfa"
      },
      "source": [
        "To make a list of punctuation marks, we can join the keys of the dictionary into a string."
      ]
    },
    {
      "cell_type": "code",
      "execution_count": 21,
      "id": "348949be",
      "metadata": {
        "id": "348949be",
        "outputId": "6b944129-1737-4310-84c4-dce6f9d5e4eb",
        "colab": {
          "base_uri": "https://localhost:8080/"
        }
      },
      "outputs": [
        {
          "output_type": "stream",
          "name": "stdout",
          "text": [
            ".’;,-“”:?—‘!()_\n"
          ]
        }
      ],
      "source": [
        "punctuation = ''.join(punc_marks)\n",
        "print(punctuation)"
      ]
    },
    {
      "cell_type": "markdown",
      "id": "6af8d5a2",
      "metadata": {
        "id": "6af8d5a2"
      },
      "source": [
        "Now that we know which characters in the book are punctuation, we can write a function that takes a word, strips punctuation from the beginning and end, and converts it to lower case."
      ]
    },
    {
      "cell_type": "code",
      "execution_count": 22,
      "id": "06121901",
      "metadata": {
        "id": "06121901"
      },
      "outputs": [],
      "source": [
        "def clean_word(word):\n",
        "    return word.strip(punctuation).lower()"
      ]
    },
    {
      "cell_type": "markdown",
      "id": "58a78cb1",
      "metadata": {
        "id": "58a78cb1"
      },
      "source": [
        "Here's an example."
      ]
    },
    {
      "cell_type": "code",
      "execution_count": 23,
      "id": "881ed9f8",
      "metadata": {
        "id": "881ed9f8",
        "outputId": "0983d034-84d8-49ad-9016-aaf4850e2b1c",
        "colab": {
          "base_uri": "https://localhost:8080/",
          "height": 35
        }
      },
      "outputs": [
        {
          "output_type": "execute_result",
          "data": {
            "text/plain": [
              "'behold'"
            ],
            "application/vnd.google.colaboratory.intrinsic+json": {
              "type": "string"
            }
          },
          "metadata": {},
          "execution_count": 23
        }
      ],
      "source": [
        "clean_word('“Behold!”')"
      ]
    },
    {
      "cell_type": "markdown",
      "id": "314e4fbd",
      "metadata": {
        "id": "314e4fbd"
      },
      "source": [
        "Because `strip` removes characters from the beginning and end, it leaves hyphenated words alone."
      ]
    },
    {
      "cell_type": "code",
      "execution_count": 24,
      "id": "ab5d2fed",
      "metadata": {
        "id": "ab5d2fed",
        "outputId": "245eac88-3562-4879-e202-6b9bb76e5cca",
        "colab": {
          "base_uri": "https://localhost:8080/",
          "height": 35
        }
      },
      "outputs": [
        {
          "output_type": "execute_result",
          "data": {
            "text/plain": [
              "'pocket-handkerchief'"
            ],
            "application/vnd.google.colaboratory.intrinsic+json": {
              "type": "string"
            }
          },
          "metadata": {},
          "execution_count": 24
        }
      ],
      "source": [
        "clean_word('pocket-handkerchief')"
      ]
    },
    {
      "cell_type": "markdown",
      "id": "99050f8a",
      "metadata": {
        "id": "99050f8a"
      },
      "source": [
        "Now here's a loop that uses `split_line` and `clean_word` to identify the unique words in the book."
      ]
    },
    {
      "cell_type": "code",
      "execution_count": 25,
      "id": "2fdfb936",
      "metadata": {
        "id": "2fdfb936",
        "outputId": "dd2d72eb-aded-4e3d-f911-8af1c1cf820a",
        "colab": {
          "base_uri": "https://localhost:8080/"
        }
      },
      "outputs": [
        {
          "output_type": "execute_result",
          "data": {
            "text/plain": [
              "4005"
            ]
          },
          "metadata": {},
          "execution_count": 25
        }
      ],
      "source": [
        "unique_words2 = {}\n",
        "for line in open(filename):\n",
        "    for word in split_line(line):\n",
        "        word = clean_word(word)\n",
        "        unique_words2[word] = 1\n",
        "\n",
        "len(unique_words2)"
      ]
    },
    {
      "cell_type": "markdown",
      "id": "992e5466",
      "metadata": {
        "id": "992e5466"
      },
      "source": [
        "With this stricter definition of what a word is, there are about 4000 unique words.\n",
        "And we can confirm that the list of longest words has been cleaned up."
      ]
    },
    {
      "cell_type": "code",
      "execution_count": 26,
      "id": "3104d191",
      "metadata": {
        "id": "3104d191",
        "outputId": "508fccb4-529e-49c1-85cf-f1fce58bccb8",
        "colab": {
          "base_uri": "https://localhost:8080/"
        }
      },
      "outputs": [
        {
          "output_type": "execute_result",
          "data": {
            "text/plain": [
              "['circumscription',\n",
              " 'unimpressionable',\n",
              " 'fellow-creatures',\n",
              " 'chocolate-coloured',\n",
              " 'pocket-handkerchief']"
            ]
          },
          "metadata": {},
          "execution_count": 26
        }
      ],
      "source": [
        "sorted(unique_words2, key=len)[-5:]"
      ]
    },
    {
      "cell_type": "markdown",
      "id": "8014c330",
      "metadata": {
        "id": "8014c330"
      },
      "source": [
        "Now let's see how many times each word is used."
      ]
    },
    {
      "cell_type": "markdown",
      "id": "7ef40180",
      "metadata": {
        "id": "7ef40180"
      },
      "source": [
        "## Word frequencies\n",
        "\n",
        "The following loop computes the frequency of each unique word."
      ]
    },
    {
      "cell_type": "code",
      "execution_count": 27,
      "id": "4fba7d1c",
      "metadata": {
        "id": "4fba7d1c"
      },
      "outputs": [],
      "source": [
        "word_counter = {}\n",
        "for line in open(filename):\n",
        "    for word in split_line(line):\n",
        "        word = clean_word(word)\n",
        "        if word not in word_counter:\n",
        "            word_counter[word] = 1\n",
        "        else:\n",
        "            word_counter[word] += 1"
      ]
    },
    {
      "cell_type": "markdown",
      "id": "bd680b81",
      "metadata": {
        "id": "bd680b81"
      },
      "source": [
        "The first time we see a word, we initialize its frequency to `1`. If we see the same word again later, we increment its frequency.\n",
        "\n",
        "To see which words appear most often, we can use `items` to get the key-value pairs from `word_counter`, and sort them by the second element of the pair, which is the frequency.\n",
        "First we'll define a function that selects the second element."
      ]
    },
    {
      "cell_type": "code",
      "execution_count": 28,
      "id": "4be34c95",
      "metadata": {
        "id": "4be34c95"
      },
      "outputs": [],
      "source": [
        "def second_element(t):\n",
        "    return t[1]"
      ]
    },
    {
      "cell_type": "markdown",
      "id": "b15a5bd6",
      "metadata": {
        "id": "b15a5bd6"
      },
      "source": [
        "Now we can use `sorted` with two keyword arguments:\n",
        "\n",
        "* `key=second_element` means the items will be sorted according to the frequencies of the words.\n",
        "\n",
        "* `reverse=True` means they items will be sorted in reverse order, with the most frequent words first."
      ]
    },
    {
      "cell_type": "code",
      "execution_count": 29,
      "id": "8efe7c4c",
      "metadata": {
        "id": "8efe7c4c"
      },
      "outputs": [],
      "source": [
        "items = sorted(word_counter.items(), key=second_element, reverse=True)"
      ]
    },
    {
      "cell_type": "markdown",
      "id": "db6812e2",
      "metadata": {
        "id": "db6812e2"
      },
      "source": [
        "Here are the five most frequent words."
      ]
    },
    {
      "cell_type": "code",
      "execution_count": 30,
      "id": "79c17341",
      "metadata": {
        "id": "79c17341",
        "outputId": "345347eb-d76c-46a2-b6ca-1f22dcc5c5a7",
        "colab": {
          "base_uri": "https://localhost:8080/"
        }
      },
      "outputs": [
        {
          "output_type": "stream",
          "name": "stdout",
          "text": [
            "1614\tthe\n",
            "972\tand\n",
            "941\tof\n",
            "640\tto\n",
            "640\ti\n"
          ]
        }
      ],
      "source": [
        "for word, freq in items[:5]:\n",
        "    print(freq, word, sep='\\t')"
      ]
    },
    {
      "cell_type": "markdown",
      "id": "551e81bb",
      "metadata": {
        "id": "551e81bb"
      },
      "source": [
        "In the next section, we'll encapsulate this loop in a function.\n",
        "And we'll use it to demonstrate a new feature -- optional parameters."
      ]
    },
    {
      "cell_type": "markdown",
      "id": "45243ccc",
      "metadata": {
        "id": "45243ccc"
      },
      "source": [
        "## Optional parameters\n",
        "\n",
        "We've used built-in functions that take optional parameters.\n",
        "For example, `round` takes an optional parameters called `ndigits` that indicates how many decimal places to keep."
      ]
    },
    {
      "cell_type": "code",
      "execution_count": null,
      "id": "838bcb4f",
      "metadata": {
        "id": "838bcb4f"
      },
      "outputs": [],
      "source": [
        "round(3.141592653589793, ndigits=3)"
      ]
    },
    {
      "cell_type": "markdown",
      "id": "6ae60945",
      "metadata": {
        "id": "6ae60945"
      },
      "source": [
        "But it's not just built-in functions -- we can write functions with optional parameters, too.\n",
        "For example, the following function takes two parameters, `word_counter` and `num`."
      ]
    },
    {
      "cell_type": "code",
      "execution_count": 31,
      "id": "90c45e7e",
      "metadata": {
        "id": "90c45e7e"
      },
      "outputs": [],
      "source": [
        "def print_most_common(word_counter, num=5):\n",
        "    items = sorted(word_counter.items(), key=second_element, reverse=True)\n",
        "\n",
        "    for word, freq in items[:num]:\n",
        "        print(freq, word, sep='\\t')"
      ]
    },
    {
      "cell_type": "markdown",
      "id": "78cb1531",
      "metadata": {
        "id": "78cb1531"
      },
      "source": [
        "The second parameter looks like an assignment statement, but it's not -- it's an optional parameter.\n",
        "\n",
        "If you call this function with one argument, `num` gets the **default value**, which is `5`."
      ]
    },
    {
      "cell_type": "code",
      "execution_count": 32,
      "id": "e106be95",
      "metadata": {
        "id": "e106be95",
        "outputId": "213be2e8-a518-4191-bf21-c45eca862fe1",
        "colab": {
          "base_uri": "https://localhost:8080/"
        }
      },
      "outputs": [
        {
          "output_type": "stream",
          "name": "stdout",
          "text": [
            "1614\tthe\n",
            "972\tand\n",
            "941\tof\n",
            "640\tto\n",
            "640\ti\n"
          ]
        }
      ],
      "source": [
        "print_most_common(word_counter)"
      ]
    },
    {
      "cell_type": "markdown",
      "id": "29753ad6",
      "metadata": {
        "id": "29753ad6"
      },
      "source": [
        "If you call this function with two arguments, the second argument gets assigned to `num` instead of the default value."
      ]
    },
    {
      "cell_type": "code",
      "execution_count": 33,
      "id": "8101a510",
      "metadata": {
        "id": "8101a510",
        "outputId": "21d4b0cf-45c4-4839-c5cd-f649393afbec",
        "colab": {
          "base_uri": "https://localhost:8080/"
        }
      },
      "outputs": [
        {
          "output_type": "stream",
          "name": "stdout",
          "text": [
            "1614\tthe\n",
            "972\tand\n",
            "941\tof\n"
          ]
        }
      ],
      "source": [
        "print_most_common(word_counter, 3)"
      ]
    },
    {
      "cell_type": "markdown",
      "id": "e9bf907b",
      "metadata": {
        "id": "e9bf907b"
      },
      "source": [
        "In that case, we would say the optional argument **overrides** the default value.\n",
        "\n",
        "If a function has both required and optional parameters, all of the required parameters have to come first, followed by the optional ones."
      ]
    },
    {
      "cell_type": "code",
      "execution_count": 34,
      "id": "c046117b",
      "metadata": {
        "tags": [],
        "id": "c046117b",
        "outputId": "08a7af23-e8e0-4784-96bc-7ca58de2e23d",
        "colab": {
          "base_uri": "https://localhost:8080/",
          "height": 106
        }
      },
      "outputs": [
        {
          "output_type": "error",
          "ename": "SyntaxError",
          "evalue": "non-default argument follows default argument (<ipython-input-34-e9ac4bb13aea>, line 1)",
          "traceback": [
            "\u001b[0;36m  File \u001b[0;32m\"<ipython-input-34-e9ac4bb13aea>\"\u001b[0;36m, line \u001b[0;32m1\u001b[0m\n\u001b[0;31m    def bad_function(n=5, word_counter):\u001b[0m\n\u001b[0m                          ^\u001b[0m\n\u001b[0;31mSyntaxError\u001b[0m\u001b[0;31m:\u001b[0m non-default argument follows default argument\n"
          ]
        }
      ],
      "source": [
        "%%expect SyntaxError\n",
        "\n",
        "def bad_function(n=5, word_counter):\n",
        "    return None"
      ]
    },
    {
      "cell_type": "markdown",
      "id": "3f450df2",
      "metadata": {
        "tags": [],
        "id": "3f450df2"
      },
      "source": [
        "## Dictionary subtraction\n",
        "\n",
        "Suppose we want to spell-check a book -- that is, find a list of words that might be misspelled.\n",
        "One way to do that is to find words in the book that don't appear in a list of valid words.\n",
        "In previous chapters, we've used a list of words that are considered valid in word games like Scrabble.\n",
        "Now we'll use this list to spell-check Robert Louis Stevenson.\n",
        "\n",
        "We can think of this problem as set subtraction -- that is, we want to find all the words from one set (the words in the book) that are not in the other (the words in the list)."
      ]
    },
    {
      "cell_type": "markdown",
      "id": "a3804d82",
      "metadata": {
        "tags": [],
        "id": "a3804d82"
      },
      "source": [
        "The following cell downloads the word list."
      ]
    },
    {
      "cell_type": "code",
      "execution_count": 35,
      "id": "edd8ff1c",
      "metadata": {
        "tags": [],
        "id": "edd8ff1c",
        "outputId": "1e523261-eac5-44c9-d46d-95778c0619c2",
        "colab": {
          "base_uri": "https://localhost:8080/"
        }
      },
      "outputs": [
        {
          "output_type": "stream",
          "name": "stdout",
          "text": [
            "Downloaded words.txt\n"
          ]
        }
      ],
      "source": [
        "download('https://raw.githubusercontent.com/AllenDowney/ThinkPython/v3/words.txt');"
      ]
    },
    {
      "cell_type": "markdown",
      "id": "2a46556c",
      "metadata": {
        "id": "2a46556c"
      },
      "source": [
        "As we've done before, we can read the contents of `words.txt` and split it into a list of strings."
      ]
    },
    {
      "cell_type": "code",
      "execution_count": 36,
      "id": "67ef3e08",
      "metadata": {
        "id": "67ef3e08"
      },
      "outputs": [],
      "source": [
        "word_list = open('words.txt').read().split()"
      ]
    },
    {
      "cell_type": "markdown",
      "id": "22becbab",
      "metadata": {
        "id": "22becbab"
      },
      "source": [
        "The we'll store the words as keys in a dictionary so we can use the `in` operator to check quickly whether a word is valid."
      ]
    },
    {
      "cell_type": "code",
      "execution_count": 37,
      "id": "471d58e9",
      "metadata": {
        "id": "471d58e9"
      },
      "outputs": [],
      "source": [
        "valid_words = {}\n",
        "for word in word_list:\n",
        "    valid_words[word] = 1"
      ]
    },
    {
      "cell_type": "markdown",
      "id": "94cc7c61",
      "metadata": {
        "id": "94cc7c61"
      },
      "source": [
        "Now, to identify words that appear in the book but not in the word list, we'll use `subtract`, which takes two dictionaries as parameters and returns a new dictionary that contains all the keys from one that are not in the other."
      ]
    },
    {
      "cell_type": "code",
      "execution_count": 38,
      "id": "4d4c3538",
      "metadata": {
        "id": "4d4c3538"
      },
      "outputs": [],
      "source": [
        "def subtract(d1, d2):\n",
        "    res = {}\n",
        "    for key in d1:\n",
        "        if key not in d2:\n",
        "            res[key] = d1[key]\n",
        "    return res"
      ]
    },
    {
      "cell_type": "markdown",
      "id": "e70c63b4",
      "metadata": {
        "id": "e70c63b4"
      },
      "source": [
        "Here's how we use it."
      ]
    },
    {
      "cell_type": "code",
      "execution_count": 39,
      "id": "8b42e014",
      "metadata": {
        "id": "8b42e014"
      },
      "outputs": [],
      "source": [
        "diff = subtract(word_counter, valid_words)"
      ]
    },
    {
      "cell_type": "markdown",
      "id": "f8ada7bd",
      "metadata": {
        "id": "f8ada7bd"
      },
      "source": [
        "To get a sample of words that might be misspelled, we can print the most common words in `diff`."
      ]
    },
    {
      "cell_type": "code",
      "execution_count": 40,
      "id": "f48be152",
      "metadata": {
        "id": "f48be152",
        "outputId": "4572da93-83ae-430a-e92b-aee05a50e082",
        "colab": {
          "base_uri": "https://localhost:8080/"
        }
      },
      "outputs": [
        {
          "output_type": "stream",
          "name": "stdout",
          "text": [
            "640\ti\n",
            "628\ta\n",
            "128\tutterson\n",
            "124\tmr\n",
            "98\thyde\n"
          ]
        }
      ],
      "source": [
        "print_most_common(diff)"
      ]
    },
    {
      "cell_type": "markdown",
      "id": "deeec418",
      "metadata": {
        "id": "deeec418"
      },
      "source": [
        "The most common \"misspelled\" words are mostly names and a few single-letter words (Mr. Utterson is Dr. Jekyll's friend and lawyer).\n",
        "\n",
        "If we select words that only appear once, they are more likely to be actual misspellings.\n",
        "We can do that by looping through the items and making a list of words with frequency `1`."
      ]
    },
    {
      "cell_type": "code",
      "execution_count": 41,
      "id": "5716f967",
      "metadata": {
        "id": "5716f967"
      },
      "outputs": [],
      "source": [
        "singletons = []\n",
        "for word, freq in diff.items():\n",
        "    if freq == 1:\n",
        "        singletons.append(word)"
      ]
    },
    {
      "cell_type": "markdown",
      "id": "98ae9281",
      "metadata": {
        "id": "98ae9281"
      },
      "source": [
        "Here are the last few elements of the list."
      ]
    },
    {
      "cell_type": "code",
      "execution_count": 42,
      "id": "b37219f5",
      "metadata": {
        "id": "b37219f5",
        "outputId": "9325e749-7500-4110-a565-eddc91e56592",
        "colab": {
          "base_uri": "https://localhost:8080/"
        }
      },
      "outputs": [
        {
          "output_type": "execute_result",
          "data": {
            "text/plain": [
              "['gesticulated', 'abjection', 'circumscription', 'reindue', 'fearstruck']"
            ]
          },
          "metadata": {},
          "execution_count": 42
        }
      ],
      "source": [
        "singletons[-5:]"
      ]
    },
    {
      "cell_type": "markdown",
      "id": "c5040834",
      "metadata": {
        "id": "c5040834"
      },
      "source": [
        "Most of them are valid words that are not in the word list.\n",
        "But `'reindue'` appears to be a misspelling of `'reinduce'`, so at least we found one legitimate error."
      ]
    },
    {
      "cell_type": "markdown",
      "id": "afcbbe19",
      "metadata": {
        "id": "afcbbe19"
      },
      "source": [
        "## Random numbers\n",
        "\n",
        "As a step toward Markov text generation, next we'll choose a random sequence of words from `word_counter`.\n",
        "But first let's talk about randomness.\n",
        "\n",
        "Given the same inputs, most computer programs are **deterministic**, which means they generate the same outputs every time.\n",
        "Determinism is usually a good thing, since we expect the same calculation to yield the same result.\n",
        "For some applications, though, we want the computer to be unpredictable.\n",
        "Games are one example, but there are more.\n",
        "\n",
        "Making a program truly nondeterministic turns out to be difficult, but there are ways to fake it.\n",
        "One is to use algorithms that generate **pseudorandom** numbers.\n",
        "Pseudorandom numbers are not truly random because they are generated by a deterministic computation, but just by looking at the numbers it is all but impossible to distinguish them from random.\n",
        "\n",
        "The `random` module provides functions that generate pseudorandom numbers -- which I will simply call \"random\" from here on.\n",
        "We can import it like this."
      ]
    },
    {
      "cell_type": "code",
      "execution_count": 43,
      "id": "75b548a9",
      "metadata": {
        "id": "75b548a9"
      },
      "outputs": [],
      "source": [
        "import random"
      ]
    },
    {
      "cell_type": "code",
      "execution_count": 44,
      "id": "2bfa31ae",
      "metadata": {
        "tags": [],
        "id": "2bfa31ae"
      },
      "outputs": [],
      "source": [
        "# this cell initializes the random number generator so it\n",
        "# generates the same sequence each time the notebook runs.\n",
        "\n",
        "random.seed(4)"
      ]
    },
    {
      "cell_type": "markdown",
      "id": "8cbbd7f8",
      "metadata": {
        "id": "8cbbd7f8"
      },
      "source": [
        "The `random` module provides a function called `choice` that chooses an element from a list at random, with every element having the same probability of being chosen."
      ]
    },
    {
      "cell_type": "code",
      "execution_count": 45,
      "id": "6f5d5c1c",
      "metadata": {
        "id": "6f5d5c1c",
        "outputId": "4580aefb-c011-4aa0-8b16-849a032bd976",
        "colab": {
          "base_uri": "https://localhost:8080/"
        }
      },
      "outputs": [
        {
          "output_type": "execute_result",
          "data": {
            "text/plain": [
              "1"
            ]
          },
          "metadata": {},
          "execution_count": 45
        }
      ],
      "source": [
        "t = [1, 2, 3]\n",
        "random.choice(t)"
      ]
    },
    {
      "cell_type": "markdown",
      "id": "57c15af2",
      "metadata": {
        "id": "57c15af2"
      },
      "source": [
        "If you call the function again, you might get the same element again, or a different one."
      ]
    },
    {
      "cell_type": "code",
      "execution_count": 48,
      "id": "1445068b",
      "metadata": {
        "id": "1445068b",
        "outputId": "38b8c6f7-a4ae-4758-c312-d74d5a3a9216",
        "colab": {
          "base_uri": "https://localhost:8080/"
        }
      },
      "outputs": [
        {
          "output_type": "execute_result",
          "data": {
            "text/plain": [
              "3"
            ]
          },
          "metadata": {},
          "execution_count": 48
        }
      ],
      "source": [
        "random.choice(t)"
      ]
    },
    {
      "cell_type": "markdown",
      "id": "6f0c2572",
      "metadata": {
        "id": "6f0c2572"
      },
      "source": [
        "In the long run, we expect to get every element about the same number of times.\n",
        "\n",
        "If you use `choice` with a dictionary, you get a `KeyError`."
      ]
    },
    {
      "cell_type": "code",
      "execution_count": 49,
      "id": "4fc47ecd",
      "metadata": {
        "tags": [],
        "id": "4fc47ecd",
        "outputId": "b5f05368-494f-4d7d-d211-b80a2333770a",
        "colab": {
          "base_uri": "https://localhost:8080/",
          "height": 54
        }
      },
      "outputs": [
        {
          "output_type": "error",
          "ename": "KeyError",
          "evalue": "1622",
          "traceback": [
            "\u001b[0;31mKeyError\u001b[0m\u001b[0;31m:\u001b[0m 1622\n"
          ]
        }
      ],
      "source": [
        "%%expect KeyError\n",
        "\n",
        "random.choice(word_counter)"
      ]
    },
    {
      "cell_type": "markdown",
      "id": "592722f3",
      "metadata": {
        "id": "592722f3"
      },
      "source": [
        "To choose a random key, you have to put the keys in a list and then call `choice`."
      ]
    },
    {
      "cell_type": "code",
      "execution_count": 51,
      "id": "91ae9d4c",
      "metadata": {
        "id": "91ae9d4c",
        "outputId": "f24b66c2-254a-4f37-aa86-9fce954e3192",
        "colab": {
          "base_uri": "https://localhost:8080/",
          "height": 35
        }
      },
      "outputs": [
        {
          "output_type": "execute_result",
          "data": {
            "text/plain": [
              "'relieved'"
            ],
            "application/vnd.google.colaboratory.intrinsic+json": {
              "type": "string"
            }
          },
          "metadata": {},
          "execution_count": 51
        }
      ],
      "source": [
        "words = list(word_counter)\n",
        "random.choice(words)"
      ]
    },
    {
      "cell_type": "markdown",
      "id": "172d72f6",
      "metadata": {
        "id": "172d72f6"
      },
      "source": [
        "If we generate a random sequence of words, it doesn't make much sense."
      ]
    },
    {
      "cell_type": "code",
      "execution_count": 52,
      "id": "8bf595c1",
      "metadata": {
        "id": "8bf595c1",
        "outputId": "c12c2a95-2556-4548-eecd-effe30ea6478",
        "colab": {
          "base_uri": "https://localhost:8080/"
        }
      },
      "outputs": [
        {
          "output_type": "stream",
          "name": "stdout",
          "text": [
            "apocryphal nor busy spoke jumped condemned "
          ]
        }
      ],
      "source": [
        "for i in range(6):\n",
        "    word = random.choice(words)\n",
        "    print(word, end=' ')"
      ]
    },
    {
      "cell_type": "markdown",
      "id": "e0e2fbc4",
      "metadata": {
        "id": "e0e2fbc4"
      },
      "source": [
        "Part of the problem is that we are not taking into account that some words are more common than others.\n",
        "The results will be better if we choose words with different \"weights\", so that some are chosen more often than others.\n",
        "\n",
        "If we use the values from `word_counter` as weights, each word is chosen with a probability that depends on its frequency."
      ]
    },
    {
      "cell_type": "code",
      "execution_count": 53,
      "id": "22953b65",
      "metadata": {
        "id": "22953b65"
      },
      "outputs": [],
      "source": [
        "weights = word_counter.values()"
      ]
    },
    {
      "cell_type": "markdown",
      "id": "5098bf93",
      "metadata": {
        "id": "5098bf93"
      },
      "source": [
        "The `random` module provides another function called `choices` that takes weights as an optional argument."
      ]
    },
    {
      "cell_type": "code",
      "execution_count": 54,
      "id": "1c7cdf4d",
      "metadata": {
        "id": "1c7cdf4d",
        "outputId": "9264e7a0-9969-4ffb-dd32-e49b19b451ea",
        "colab": {
          "base_uri": "https://localhost:8080/"
        }
      },
      "outputs": [
        {
          "output_type": "execute_result",
          "data": {
            "text/plain": [
              "['reach']"
            ]
          },
          "metadata": {},
          "execution_count": 54
        }
      ],
      "source": [
        "random.choices(words, weights=weights)"
      ]
    },
    {
      "cell_type": "markdown",
      "id": "a3341e84",
      "metadata": {
        "id": "a3341e84"
      },
      "source": [
        "And it takes another optional argument, `k`, that specifies the number of words to select."
      ]
    },
    {
      "cell_type": "code",
      "execution_count": 55,
      "id": "a7a3aa42",
      "metadata": {
        "id": "a7a3aa42",
        "outputId": "98a63a48-6e9a-41c3-dc35-115d309d428d",
        "colab": {
          "base_uri": "https://localhost:8080/"
        }
      },
      "outputs": [
        {
          "output_type": "execute_result",
          "data": {
            "text/plain": [
              "['streets', 'disappearance', 'a', 'said', 'to', 'was']"
            ]
          },
          "metadata": {},
          "execution_count": 55
        }
      ],
      "source": [
        "random_words = random.choices(words, weights=weights, k=6)\n",
        "random_words"
      ]
    },
    {
      "cell_type": "markdown",
      "id": "e57e6f3d",
      "metadata": {
        "id": "e57e6f3d"
      },
      "source": [
        "The result is a list of strings that we can join into something that's looks more like a sentence."
      ]
    },
    {
      "cell_type": "code",
      "execution_count": 57,
      "id": "c4286fb3",
      "metadata": {
        "id": "c4286fb3",
        "outputId": "660ad6b2-7246-49f0-dbe1-ac9eba34224a",
        "colab": {
          "base_uri": "https://localhost:8080/",
          "height": 35
        }
      },
      "outputs": [
        {
          "output_type": "execute_result",
          "data": {
            "text/plain": [
              "'streets disappearance a said to was'"
            ],
            "application/vnd.google.colaboratory.intrinsic+json": {
              "type": "string"
            }
          },
          "metadata": {},
          "execution_count": 57
        }
      ],
      "source": [
        "' '.join(random_words)"
      ]
    },
    {
      "cell_type": "markdown",
      "id": "c7a35dff",
      "metadata": {
        "id": "c7a35dff"
      },
      "source": [
        "If you choose words from the book at random, you get a sense of the vocabulary, but a series of random words seldom makes sense because there is no relationship between successive words.\n",
        "For example, in a real sentence you expect an article like \"the\" to be followed by an adjective or a noun, and probably not a verb or adverb.\n",
        "So the next step is to look at these relationships between words."
      ]
    },
    {
      "cell_type": "markdown",
      "id": "0921dd53",
      "metadata": {
        "id": "0921dd53"
      },
      "source": [
        "## Bigrams\n",
        "\n",
        "Instead of looking at one word at a time, now we'll look at sequences of two words, which are called **bigrams**.\n",
        "A sequence of three words is called a **trigram**, and a sequence with some unspecified number of words is called an **n-gram**.\n",
        "\n",
        "Let's write a program that finds all of the bigrams in the book and the number of times each one appears.\n",
        "To store the results, we'll use a dictionary where\n",
        "\n",
        "* The keys are tuples of strings that represent bigrams, and\n",
        "\n",
        "* The values are integers that represent frequencies.\n",
        "\n",
        "Let's call it `bigram_counter`."
      ]
    },
    {
      "cell_type": "code",
      "execution_count": 58,
      "id": "d8ee02f6",
      "metadata": {
        "id": "d8ee02f6"
      },
      "outputs": [],
      "source": [
        "bigram_counter = {}"
      ]
    },
    {
      "cell_type": "markdown",
      "id": "33f97a2a",
      "metadata": {
        "id": "33f97a2a"
      },
      "source": [
        "The following function takes a list of two strings as a parameter.\n",
        "First it makes a tuple of the two strings, which can be used as a key in a dictionary.\n",
        "Then it adds the key to `bigram_counter`, if it doesn't exist, or increments the frequency if it does."
      ]
    },
    {
      "cell_type": "code",
      "execution_count": 59,
      "id": "bfdb1de1",
      "metadata": {
        "id": "bfdb1de1"
      },
      "outputs": [],
      "source": [
        "def count_bigram(bigram):\n",
        "    key = tuple(bigram)\n",
        "    if key not in bigram_counter:\n",
        "        bigram_counter[key] = 1\n",
        "    else:\n",
        "        bigram_counter[key] += 1"
      ]
    },
    {
      "cell_type": "markdown",
      "id": "5c30f429",
      "metadata": {
        "id": "5c30f429"
      },
      "source": [
        "As we go through the book, we have to keep track of each pair of consecutive words.\n",
        "So if we see the sequence \"man is not truly one\", we would add the bigrams \"man is\", \"is not\", \"not truly\", and so on.\n",
        "\n",
        "To keep track of these bigrams, we'll use a list called `window`, because it is like a window that slides over the pages of the book, showing only two words at a time.\n",
        "Initially, `window` is empty."
      ]
    },
    {
      "cell_type": "code",
      "execution_count": 61,
      "id": "2e73df79",
      "metadata": {
        "id": "2e73df79"
      },
      "outputs": [],
      "source": [
        "window = []"
      ]
    },
    {
      "cell_type": "markdown",
      "id": "9376558c",
      "metadata": {
        "id": "9376558c"
      },
      "source": [
        "We'll use the following function to process the words one at a time."
      ]
    },
    {
      "cell_type": "code",
      "execution_count": 62,
      "id": "495ad429",
      "metadata": {
        "id": "495ad429"
      },
      "outputs": [],
      "source": [
        "def process_word(word):\n",
        "    window.append(word)\n",
        "\n",
        "    if len(window) == 2:\n",
        "        count_bigram(window)\n",
        "        window.pop(0)"
      ]
    },
    {
      "cell_type": "markdown",
      "id": "56895591",
      "metadata": {
        "id": "56895591"
      },
      "source": [
        "The first time this function is called, it appends the given word to `window`.\n",
        "Since there is only one word in the window, we don't have a bigram yet, so the function ends.\n",
        "\n",
        "The second time it's called -- and every time thereafter -- it appends a second word to `window`.\n",
        "Since there are two words in the window, it calls `count_bigram` to keep track of how many times each bigram appears.\n",
        "Then it uses `pop` to remove the first word from the window.\n",
        "\n",
        "The following program loops through the words in the book and processes them one at a time."
      ]
    },
    {
      "cell_type": "code",
      "execution_count": 63,
      "id": "c1224061",
      "metadata": {
        "id": "c1224061"
      },
      "outputs": [],
      "source": [
        "for line in open(filename):\n",
        "    for word in split_line(line):\n",
        "        word = clean_word(word)\n",
        "        process_word(word)"
      ]
    },
    {
      "cell_type": "markdown",
      "id": "20c4627a",
      "metadata": {
        "id": "20c4627a"
      },
      "source": [
        "The result is a dictionary that maps from each bigram to the number of times it appears.\n",
        "We can use `print_most_common` to see the most common bigrams."
      ]
    },
    {
      "cell_type": "code",
      "execution_count": 64,
      "id": "4296485a",
      "metadata": {
        "id": "4296485a",
        "outputId": "2d51e5a1-5aa8-4489-8760-1188375a21af",
        "colab": {
          "base_uri": "https://localhost:8080/"
        }
      },
      "outputs": [
        {
          "output_type": "stream",
          "name": "stdout",
          "text": [
            "178\t('of', 'the')\n",
            "139\t('in', 'the')\n",
            "94\t('it', 'was')\n",
            "80\t('and', 'the')\n",
            "73\t('to', 'the')\n"
          ]
        }
      ],
      "source": [
        "print_most_common(bigram_counter)"
      ]
    },
    {
      "cell_type": "markdown",
      "id": "757bd309",
      "metadata": {
        "id": "757bd309"
      },
      "source": [
        "Looking at these results, we can get a sense of which pairs of words are most likely to appear together.\n",
        "We can also use the results to generate random text, like this."
      ]
    },
    {
      "cell_type": "code",
      "execution_count": 65,
      "id": "e03fd803",
      "metadata": {
        "tags": [],
        "id": "e03fd803"
      },
      "outputs": [],
      "source": [
        "random.seed(0)"
      ]
    },
    {
      "cell_type": "code",
      "execution_count": 66,
      "id": "f6ee1840",
      "metadata": {
        "id": "f6ee1840"
      },
      "outputs": [],
      "source": [
        "bigrams = list(bigram_counter)\n",
        "weights = bigram_counter.values()\n",
        "random_bigrams = random.choices(bigrams, weights=weights, k=6)"
      ]
    },
    {
      "cell_type": "markdown",
      "id": "eda80407",
      "metadata": {
        "id": "eda80407"
      },
      "source": [
        "`bigrams` is a list of the bigrams that appear in the books.\n",
        "`weights` is a list of their frequencies, so `random_bigrams` is a sample where the probability a bigram is selected is proportional to its frequency.\n",
        "\n",
        "Here are the results."
      ]
    },
    {
      "cell_type": "code",
      "execution_count": 67,
      "id": "d6c65d79",
      "metadata": {
        "id": "d6c65d79",
        "outputId": "9b63b6c1-b3af-4880-e0ca-42b3d6cdb1f4",
        "colab": {
          "base_uri": "https://localhost:8080/"
        }
      },
      "outputs": [
        {
          "output_type": "stream",
          "name": "stdout",
          "text": [
            "to suggest this preface to detain fact is above all the laboratory "
          ]
        }
      ],
      "source": [
        "for pair in random_bigrams:\n",
        "    print(' '.join(pair), end=' ')"
      ]
    },
    {
      "cell_type": "markdown",
      "id": "5f24c3b6",
      "metadata": {
        "id": "5f24c3b6"
      },
      "source": [
        "This way of generating text is better than choosing random words, but still doesn't make a lot of sense."
      ]
    },
    {
      "cell_type": "markdown",
      "id": "a13d93b5",
      "metadata": {
        "id": "a13d93b5"
      },
      "source": [
        "## Markov analysis\n",
        "\n",
        "We can do better with Markov chain text analysis, which computes, for each word in a text, the list of words that come next.\n",
        "As an example, we'll analyze these lyrics from the Monty Python song *Eric, the Half a Bee*:"
      ]
    },
    {
      "cell_type": "code",
      "execution_count": 68,
      "id": "3171d592",
      "metadata": {
        "id": "3171d592"
      },
      "outputs": [],
      "source": [
        "song = \"\"\"\n",
        "Half a bee, philosophically,\n",
        "Must, ipso facto, half not be.\n",
        "But half the bee has got to be\n",
        "Vis a vis, its entity. D'you see?\n",
        "\"\"\""
      ]
    },
    {
      "cell_type": "markdown",
      "id": "583ab9f0",
      "metadata": {
        "id": "583ab9f0"
      },
      "source": [
        "To store the results, we'll use a dictionary that maps from each word to the list of words that follow it."
      ]
    },
    {
      "cell_type": "code",
      "execution_count": 69,
      "id": "3321e6a4",
      "metadata": {
        "id": "3321e6a4"
      },
      "outputs": [],
      "source": [
        "successor_map = {}"
      ]
    },
    {
      "cell_type": "markdown",
      "id": "d5d85b09",
      "metadata": {
        "id": "d5d85b09"
      },
      "source": [
        "As an example, let's start with the first two words of the song."
      ]
    },
    {
      "cell_type": "code",
      "execution_count": 70,
      "id": "e4e55c71",
      "metadata": {
        "id": "e4e55c71"
      },
      "outputs": [],
      "source": [
        "first = 'half'\n",
        "second = 'a'"
      ]
    },
    {
      "cell_type": "markdown",
      "id": "0349fe78",
      "metadata": {
        "id": "0349fe78"
      },
      "source": [
        "If the first word is not in `successor_map`, we have to add a new item that maps from the first word to a list containing the second word."
      ]
    },
    {
      "cell_type": "code",
      "execution_count": 71,
      "id": "f25dcb5e",
      "metadata": {
        "id": "f25dcb5e",
        "outputId": "2147de38-f265-404c-8f27-c79bb1e8f6e0",
        "colab": {
          "base_uri": "https://localhost:8080/"
        }
      },
      "outputs": [
        {
          "output_type": "execute_result",
          "data": {
            "text/plain": [
              "{'half': ['a']}"
            ]
          },
          "metadata": {},
          "execution_count": 71
        }
      ],
      "source": [
        "successor_map[first] = [second]\n",
        "successor_map"
      ]
    },
    {
      "cell_type": "markdown",
      "id": "55bb8df9",
      "metadata": {
        "id": "55bb8df9"
      },
      "source": [
        "If the first word is already in the dictionary, we can look it up to get the list of successors we've seen so far, and append the new one."
      ]
    },
    {
      "cell_type": "code",
      "execution_count": 72,
      "id": "990354a0",
      "metadata": {
        "id": "990354a0",
        "outputId": "bb1346d4-b68d-4b24-f9fb-a973191d7009",
        "colab": {
          "base_uri": "https://localhost:8080/"
        }
      },
      "outputs": [
        {
          "output_type": "execute_result",
          "data": {
            "text/plain": [
              "{'half': ['a', 'not']}"
            ]
          },
          "metadata": {},
          "execution_count": 72
        }
      ],
      "source": [
        "first = 'half'\n",
        "second = 'not'\n",
        "\n",
        "successor_map[first].append(second)\n",
        "successor_map"
      ]
    },
    {
      "cell_type": "markdown",
      "id": "6289cc32",
      "metadata": {
        "id": "6289cc32"
      },
      "source": [
        "The following function encapsulates these steps."
      ]
    },
    {
      "cell_type": "code",
      "execution_count": 73,
      "id": "b9371452",
      "metadata": {
        "id": "b9371452"
      },
      "outputs": [],
      "source": [
        "def add_bigram(bigram):\n",
        "    first, second = bigram\n",
        "\n",
        "    if first not in successor_map:\n",
        "        successor_map[first] = [second]\n",
        "    else:\n",
        "        successor_map[first].append(second)"
      ]
    },
    {
      "cell_type": "markdown",
      "id": "74a51700",
      "metadata": {
        "id": "74a51700"
      },
      "source": [
        "If the same bigram appears more that once, the second word is added to the list more than once.\n",
        "In this way, `successor_map` keeps track of how many times each successor appears.\n",
        "\n",
        "As we did in the previous section, we'll use a list called `window` to store pairs of consecutive words.\n",
        "And we'll use the following function to process the words one at a time."
      ]
    },
    {
      "cell_type": "code",
      "execution_count": 74,
      "id": "8c3f45c2",
      "metadata": {
        "id": "8c3f45c2"
      },
      "outputs": [],
      "source": [
        "def process_word_bigram(word):\n",
        "    window.append(word)\n",
        "\n",
        "    if len(window) == 2:\n",
        "        add_bigram(window)\n",
        "        window.pop(0)"
      ]
    },
    {
      "cell_type": "markdown",
      "id": "861a60d9",
      "metadata": {
        "id": "861a60d9"
      },
      "source": [
        "Here's how we use it to process the words in the song."
      ]
    },
    {
      "cell_type": "code",
      "execution_count": 75,
      "id": "641990a3",
      "metadata": {
        "id": "641990a3"
      },
      "outputs": [],
      "source": [
        "successor_map = {}\n",
        "window = []\n",
        "\n",
        "for word in song.split():\n",
        "    word = clean_word(word)\n",
        "    process_word_bigram(word)"
      ]
    },
    {
      "cell_type": "markdown",
      "id": "bf490d67",
      "metadata": {
        "id": "bf490d67"
      },
      "source": [
        "And here are the results."
      ]
    },
    {
      "cell_type": "code",
      "execution_count": 76,
      "id": "9322a49a",
      "metadata": {
        "id": "9322a49a",
        "outputId": "5c9bd398-1a1f-409a-abff-6e42b5d3f5ed",
        "colab": {
          "base_uri": "https://localhost:8080/"
        }
      },
      "outputs": [
        {
          "output_type": "execute_result",
          "data": {
            "text/plain": [
              "{'half': ['a', 'not', 'the'],\n",
              " 'a': ['bee', 'vis'],\n",
              " 'bee': ['philosophically', 'has'],\n",
              " 'philosophically': ['must'],\n",
              " 'must': ['ipso'],\n",
              " 'ipso': ['facto'],\n",
              " 'facto': ['half'],\n",
              " 'not': ['be'],\n",
              " 'be': ['but', 'vis'],\n",
              " 'but': ['half'],\n",
              " 'the': ['bee'],\n",
              " 'has': ['got'],\n",
              " 'got': ['to'],\n",
              " 'to': ['be'],\n",
              " 'vis': ['a', 'its'],\n",
              " 'its': ['entity'],\n",
              " 'entity': [\"d'you\"],\n",
              " \"d'you\": ['see']}"
            ]
          },
          "metadata": {},
          "execution_count": 76
        }
      ],
      "source": [
        "successor_map"
      ]
    },
    {
      "cell_type": "markdown",
      "id": "ff7bad74",
      "metadata": {
        "id": "ff7bad74"
      },
      "source": [
        "The word `'half'` can be followed by `'a'`, `'not'`, or `'the'`.\n",
        "The word `'a'` can be followed by `'bee'` or `'vis'`.\n",
        "Most of the other words appear only once, so they are followed by only a single word.\n",
        "\n",
        "Now let's analyze the book."
      ]
    },
    {
      "cell_type": "code",
      "execution_count": 77,
      "id": "45a60c52",
      "metadata": {
        "id": "45a60c52"
      },
      "outputs": [],
      "source": [
        "successor_map = {}\n",
        "window = []\n",
        "\n",
        "for line in open(filename):\n",
        "    for word in split_line(line):\n",
        "        word = clean_word(word)\n",
        "        process_word_bigram(word)"
      ]
    },
    {
      "cell_type": "markdown",
      "id": "2676e2fb",
      "metadata": {
        "id": "2676e2fb"
      },
      "source": [
        "We can look up any word and find the words that can follow it."
      ]
    },
    {
      "cell_type": "code",
      "execution_count": 78,
      "id": "3e86102c",
      "metadata": {
        "tags": [],
        "id": "3e86102c",
        "outputId": "72bc83a7-6417-4686-e564-281ba6a5dac4",
        "colab": {
          "base_uri": "https://localhost:8080/"
        }
      },
      "outputs": [
        {
          "output_type": "stream",
          "name": "stdout",
          "text": [
            "story ['of', 'of', 'indeed', 'but', 'for', 'of', 'that']\n",
            "incident ['of', 'of', 'at', 'of', 'of', 'at', 'this']\n",
            "lanyon’s ['narrative', 'there', 'face', 'manner', 'narrative', 'the', 'condemnation']\n",
            "common ['it', 'interest', 'friends', 'friends', 'observers', 'but', 'quarry']\n",
            "relief ['the', 'to', 'when', 'that', 'that', 'of', 'it']\n",
            "appearance ['of', 'well', 'something', 'he', 'amply', 'of', 'which']\n",
            "going ['east', 'in', 'to', 'to', 'up', 'to', 'of']\n",
            "till ['at', 'the', 'i', 'yesterday', 'the', 'that', 'weariness']\n",
            "walk ['and', 'into', 'with', 'all', 'steadfastly', 'attired', 'with']\n",
            "sounds ['nothing', 'carried', 'out', 'the', 'of', 'of', 'with']\n",
            "really ['like', 'damnable', 'can', 'a', 'a', 'not', 'be']\n",
            "does ['not', 'not', 'indeed', 'not', 'the', 'not', 'not']\n",
            "reply ['i', 'but', 'whose', 'i', 'some', 'that’s', 'i']\n",
            "continued ['mr', 'the', 'the', 'the', 'the', 'poole', 'utterson']\n",
            "seems ['scarcely', 'hardly', 'to', 'she', 'much', 'he', 'to']\n",
            "walked ['on', 'over', 'some', 'was', 'on', 'with', 'fast']\n",
            "that’s ['a', 'it', 'talking', 'very', 'not', 'such', 'not']\n",
            "although ['i', 'a', 'it', 'the', 'we', 'they', 'i']\n",
            "until ['the', 'the', 'they', 'they', 'the', 'to-morrow', 'i']\n",
            "disappearance ['or', 'the', 'of', 'of', 'here', 'and', 'but']\n",
            "step ['into', 'or', 'back', 'natural', 'into', 'of', 'leaping']\n",
            "wish ['the', 'you', 'to', 'you', 'to', 'i', 'to']\n",
            "aware ['of', 'of', 'of', 'that', 'jekyll’s', 'that', 'of']\n",
            "thank ['you', 'you', 'you', 'you', 'you', 'god', 'you']\n",
            "maid ['servant', 'described', 'fainted', 'had', 'calls', 'had', 'lifted']\n",
            "besides ['were', 'was', 'for', 'a', 'with', 'with', 'which']\n",
            "observed ['the', 'utterson', 'with', 'the', 'that', 'that', 'that']\n",
            "among ['other', 'the', 'the', 'the', 'my', 'my', 'temptations']\n"
          ]
        }
      ],
      "source": [
        "# I used this cell to find a predecessor with a good number of possible successors\n",
        "# and at least one repeated word.\n",
        "\n",
        "def has_duplicates(t):\n",
        "    return len(set(t)) < len(t)\n",
        "\n",
        "for key, value in successor_map.items():\n",
        "    if len(value) == 7 and has_duplicates(value):\n",
        "        print(key, value)"
      ]
    },
    {
      "cell_type": "code",
      "execution_count": 79,
      "id": "e49d52f7",
      "metadata": {
        "id": "e49d52f7",
        "outputId": "59db3c63-dd1a-4809-b386-a8ca1be48b5b",
        "colab": {
          "base_uri": "https://localhost:8080/"
        }
      },
      "outputs": [
        {
          "output_type": "execute_result",
          "data": {
            "text/plain": [
              "['east', 'in', 'to', 'to', 'up', 'to', 'of']"
            ]
          },
          "metadata": {},
          "execution_count": 79
        }
      ],
      "source": [
        "successor_map['going']"
      ]
    },
    {
      "cell_type": "markdown",
      "id": "7b777a9c",
      "metadata": {
        "id": "7b777a9c"
      },
      "source": [
        "In this list of successors, notice that the word `'to'` appears three times -- the other successors only appear once."
      ]
    },
    {
      "cell_type": "markdown",
      "id": "e8bf85fc",
      "metadata": {
        "id": "e8bf85fc"
      },
      "source": [
        "## Generating text\n",
        "\n",
        "We can use the results from the previous section to generate new text with the same relationships between consecutive words as in the original.\n",
        "Here's how it works:\n",
        "\n",
        "* Starting with any word that appears in the text, we look up its possible successors and choose one at random.\n",
        "\n",
        "* Then, using the chosen word, we look up its possible successors, and choose one at random.\n",
        "\n",
        "We can repeat this process to generate as many words as we want.\n",
        "As an example, let's start with the word `'although'`.\n",
        "Here are the words that can follow it."
      ]
    },
    {
      "cell_type": "code",
      "execution_count": 80,
      "id": "15108884",
      "metadata": {
        "id": "15108884",
        "outputId": "bd0e9083-fd2a-4812-e5a4-53b02ef27af9",
        "colab": {
          "base_uri": "https://localhost:8080/"
        }
      },
      "outputs": [
        {
          "output_type": "execute_result",
          "data": {
            "text/plain": [
              "['i', 'a', 'it', 'the', 'we', 'they', 'i']"
            ]
          },
          "metadata": {},
          "execution_count": 80
        }
      ],
      "source": [
        "word = 'although'\n",
        "successors = successor_map[word]\n",
        "successors"
      ]
    },
    {
      "cell_type": "code",
      "execution_count": 81,
      "id": "747a41be",
      "metadata": {
        "tags": [],
        "id": "747a41be"
      },
      "outputs": [],
      "source": [
        "# this cell initializes the random number generator so it\n",
        "# starts at the same point in the sequence each time this\n",
        "# notebook runs.\n",
        "\n",
        "random.seed(2)"
      ]
    },
    {
      "cell_type": "markdown",
      "id": "b26a2ead",
      "metadata": {
        "id": "b26a2ead"
      },
      "source": [
        "We can use `choice` to choose from the list with equal probability."
      ]
    },
    {
      "cell_type": "code",
      "execution_count": 82,
      "id": "5a4682dc",
      "metadata": {
        "id": "5a4682dc",
        "outputId": "d9315879-a6ac-4e85-a13f-baa40a51f374",
        "colab": {
          "base_uri": "https://localhost:8080/",
          "height": 35
        }
      },
      "outputs": [
        {
          "output_type": "execute_result",
          "data": {
            "text/plain": [
              "'i'"
            ],
            "application/vnd.google.colaboratory.intrinsic+json": {
              "type": "string"
            }
          },
          "metadata": {},
          "execution_count": 82
        }
      ],
      "source": [
        "word = random.choice(successors)\n",
        "word"
      ]
    },
    {
      "cell_type": "markdown",
      "id": "9741beca",
      "metadata": {
        "id": "9741beca"
      },
      "source": [
        "If the same word appears more than once in the list, it is more likely to be selected.\n",
        "\n",
        "Repeating these steps, we can use the following loop to generate a longer series."
      ]
    },
    {
      "cell_type": "code",
      "execution_count": 83,
      "id": "36ee0f76",
      "metadata": {
        "id": "36ee0f76",
        "outputId": "c4fdbd9a-fd18-46d8-91fe-c554c5a1f686",
        "colab": {
          "base_uri": "https://localhost:8080/"
        }
      },
      "outputs": [
        {
          "output_type": "stream",
          "name": "stdout",
          "text": [
            "continue to hesitate and swallowed the smile withered from that "
          ]
        }
      ],
      "source": [
        "for i in range(10):\n",
        "    successors = successor_map[word]\n",
        "    word = random.choice(successors)\n",
        "    print(word, end=' ')"
      ]
    },
    {
      "cell_type": "markdown",
      "id": "38a2d79a",
      "metadata": {
        "id": "38a2d79a"
      },
      "source": [
        "The result sounds more like a real sentence, but it still doesn't make much sense.\n",
        "\n",
        "We can do better using more than one word as a key in `successor_map`.\n",
        "For example, we can make a dictionary that maps from each bigram -- or trigram -- to the list of words that come next.\n",
        "As an exercise, you'll have a chance to implement this analysis and see what the results look like."
      ]
    },
    {
      "cell_type": "markdown",
      "id": "c59dff45",
      "metadata": {
        "tags": [],
        "id": "c59dff45"
      },
      "source": [
        "## Debugging\n",
        "\n",
        "At this point we are writing more substantial programs, and you might find that you are spending more time debugging.\n",
        "If you are stuck on a difficult bug, here are a few things to try:\n",
        "\n",
        "* Reading: Examine your code, read it back to yourself, and check that it says what you meant to say.\n",
        "\n",
        "* Running: Experiment by making changes and running different versions. Often if you display the right thing at the right place in the program, the problem becomes obvious, but sometimes you have to build scaffolding.\n",
        "\n",
        "* Ruminating: Take some time to think! What kind of error is it: syntax, runtime,\n",
        "    or semantic? What information can you get from the error messages,\n",
        "    or from the output of the program? What kind of error could cause\n",
        "    the problem you're seeing? What did you change last, before the\n",
        "    problem appeared?\n",
        "\n",
        "* Rubberducking: If you explain the problem to someone else, you sometimes find the\n",
        "    answer before you finish asking the question. Often you don't need\n",
        "    the other person; you could just talk to a rubber duck. And that's\n",
        "    the origin of the well-known strategy called **rubber duck\n",
        "    debugging**. I am not making this up -- see\n",
        "    <https://en.wikipedia.org/wiki/Rubber_duck_debugging>.\n",
        "\n",
        "* Retreating: At some point, the best thing to do is back up -- undoing recent\n",
        "    changes -- until you get to a program that works. Then you can start rebuilding.\n",
        "    \n",
        "* Resting: If you give your brain a break, sometime it will find the problem for you."
      ]
    },
    {
      "cell_type": "markdown",
      "id": "12c2cd32",
      "metadata": {
        "id": "12c2cd32"
      },
      "source": [
        "Beginning programmers sometimes get stuck on one of these activities and forget the others. Each activity comes with its own failure mode.\n",
        "\n",
        "For example, reading your code works if the problem is a typographical error, but not if the problem is a conceptual misunderstanding.\n",
        "If you don't understand what your program does, you can read it 100 times and never see the error, because the error is in your head.\n",
        "\n",
        "Running experiments can work, especially if you run small, simple tests.\n",
        "But if you run experiments without thinking or reading your code, it can take a long time to figure out what's happening.\n",
        "\n",
        "You have to take time to think. Debugging is like an experimental science. You should have at least one hypothesis about what the problem is. If there are two or more possibilities, try to think of a test that would eliminate one of them."
      ]
    },
    {
      "cell_type": "markdown",
      "id": "a55036e1",
      "metadata": {
        "id": "a55036e1"
      },
      "source": [
        "But even the best debugging techniques will fail if there are too many\n",
        "errors, or if the code you are trying to fix is too big and complicated.\n",
        "Sometimes the best option is to retreat, simplifying the program until\n",
        "you get back to something that works.\n",
        "\n",
        "Beginning programmers are often reluctant to retreat because they can't\n",
        "stand to delete a line of code (even if it's wrong). If it makes you\n",
        "feel better, copy your program into another file before you start\n",
        "stripping it down. Then you can copy the pieces back one at a time.\n",
        "\n",
        "Finding a hard bug requires reading, running, ruminating, retreating, and sometimes resting.\n",
        "If you get stuck on one of these activities, try the others."
      ]
    },
    {
      "cell_type": "markdown",
      "id": "25d091af",
      "metadata": {
        "id": "25d091af"
      },
      "source": [
        "## Glossary\n",
        "\n",
        "**default value:**\n",
        "The value assigned to a parameter if no argument is provided.\n",
        "\n",
        "**override:**\n",
        " To replace a default value with an argument.\n",
        "\n",
        "**deterministic:**\n",
        " A deterministic program does the same thing each time it runs, given the same inputs.\n",
        "\n",
        "**pseudorandom:**\n",
        " A pseudorandom sequence of numbers appears to be random, but is generated by a deterministic program.\n",
        "\n",
        "**bigram:**\n",
        "A sequence of two elements, often words.\n",
        "\n",
        "**trigram:**\n",
        "A sequence of three elements.\n",
        "\n",
        "**n-gram:**\n",
        "A sequence of an unspecified number of elements.\n",
        "\n",
        "**rubber duck debugging:**\n",
        "A way of debugging by explaining a problem aloud to an inanimate object."
      ]
    },
    {
      "cell_type": "markdown",
      "id": "cde18229",
      "metadata": {
        "id": "cde18229"
      },
      "source": [
        "## Exercises"
      ]
    },
    {
      "cell_type": "code",
      "execution_count": 84,
      "id": "05752b6d",
      "metadata": {
        "tags": [],
        "id": "05752b6d",
        "outputId": "308419dd-7955-4c1e-d459-a056ba0562ee",
        "colab": {
          "base_uri": "https://localhost:8080/"
        }
      },
      "outputs": [
        {
          "output_type": "stream",
          "name": "stdout",
          "text": [
            "Exception reporting mode: Verbose\n"
          ]
        }
      ],
      "source": [
        "# This cell tells Jupyter to provide detailed debugging information\n",
        "# when a runtime error occurs. Run it before working on the exercises.\n",
        "\n",
        "%xmode Verbose"
      ]
    },
    {
      "cell_type": "markdown",
      "id": "9b0efab8",
      "metadata": {
        "id": "9b0efab8"
      },
      "source": [
        "### Ask a virtual assistant\n",
        "\n",
        "In `add_bigram`, the `if` statement creates a new list or appends an element to an existing list, depending on whether the key is already in the dictionary."
      ]
    },
    {
      "cell_type": "code",
      "execution_count": null,
      "id": "a4365ac0",
      "metadata": {
        "id": "a4365ac0"
      },
      "outputs": [],
      "source": [
        "def add_bigram(bigram):\n",
        "    first, second = bigram\n",
        "\n",
        "    if first not in successor_map:\n",
        "        successor_map[first] = [second]\n",
        "    else:\n",
        "        successor_map[first].append(second)\n",
        "\n",
        "def add_bigram(bigram):\n",
        "  first, second = bigram\n",
        "\n",
        "  successor_map.setdefault(first, []).append(second)"
      ]
    },
    {
      "cell_type": "markdown",
      "id": "30d9e549",
      "metadata": {
        "id": "30d9e549"
      },
      "source": [
        "Dictionaries provide a method called `setdefault` that we can use to do the same thing more concisely.\n",
        "Ask a virtual assistant how it works, or copy `add_word` into a virtual assistant and ask \"Can you rewrite this using `setdefault`?\"\n",
        "\n",
        "In this chapter we implemented Markov chain text analysis and generation.\n",
        "If you are curious, you can ask a virtual assistant for more information on the topic.\n",
        "One of the things you might learn is that virtual assistants use algorithms that are similar in many ways -- but also different in important ways.\n",
        "Ask a VA, \"What are the differences between large language models like GPT and Markov chain text analysis?\""
      ]
    },
    {
      "cell_type": "markdown",
      "id": "060c9ef6",
      "metadata": {
        "id": "060c9ef6"
      },
      "source": [
        "### Exercise\n",
        "\n",
        "Write a function that counts the number of times each trigram (sequence of three words) appears.\n",
        "If you test your function with the text of _Dr. Jekyll and Mr. Hyde_, you should find that the most common trigram is \"said the lawyer\".\n",
        "\n",
        "Hint: Write a function called `count_trigram` that is similar to `count_bigram`. Then write a function called `process_word_trigram` that is similar to `process_word_bigram`."
      ]
    },
    {
      "cell_type": "code",
      "execution_count": 93,
      "id": "f38a61ff",
      "metadata": {
        "id": "f38a61ff"
      },
      "outputs": [],
      "source": [
        "\n",
        "# Solution goes here\n",
        "def count_trigram(trigram):\n",
        "    key = tuple(trigram)\n",
        "    if key not in trigram_counter:\n",
        "      trigram_counter[key] = 1\n",
        "    else:\n",
        "      trigram_counter[key] = trigram_counter[key] + 1"
      ]
    },
    {
      "cell_type": "code",
      "execution_count": 94,
      "id": "d047e546",
      "metadata": {
        "id": "d047e546"
      },
      "outputs": [],
      "source": [
        "# Solution goes here\n",
        "\n",
        "\n",
        "def process_word_trigram(word):\n",
        "    window.append(word)\n",
        "\n",
        "    if len(window) == 3:\n",
        "      count_trigram(window)\n",
        "      window.pop(0)"
      ]
    },
    {
      "cell_type": "markdown",
      "id": "ca1f8a79",
      "metadata": {
        "tags": [],
        "id": "ca1f8a79"
      },
      "source": [
        "You can use the following loop to read the book and process the words."
      ]
    },
    {
      "cell_type": "code",
      "execution_count": 95,
      "id": "6b8932ee",
      "metadata": {
        "tags": [],
        "id": "6b8932ee",
        "outputId": "0982c9f9-14c9-4703-f060-a794a2fcc851",
        "colab": {
          "base_uri": "https://localhost:8080/"
        }
      },
      "outputs": [
        {
          "output_type": "execute_result",
          "data": {
            "text/plain": [
              "{('the', 'strange', 'case'): 1,\n",
              " ('strange', 'case', 'of'): 1,\n",
              " ('case', 'of', 'dr'): 2,\n",
              " ('of', 'dr', 'jekyll'): 4,\n",
              " ('dr', 'jekyll', 'and'): 2,\n",
              " ('jekyll', 'and', 'mr'): 1,\n",
              " ('and', 'mr', 'hyde'): 1,\n",
              " ('mr', 'hyde', 'by'): 1,\n",
              " ('hyde', 'by', 'robert'): 1,\n",
              " ('by', 'robert', 'louis'): 1,\n",
              " ('robert', 'louis', 'stevenson'): 1,\n",
              " ('louis', 'stevenson', 'contents'): 1,\n",
              " ('stevenson', 'contents', 'story'): 1,\n",
              " ('contents', 'story', 'of'): 1,\n",
              " ('story', 'of', 'the'): 2,\n",
              " ('of', 'the', 'door'): 4,\n",
              " ('the', 'door', 'search'): 1,\n",
              " ('door', 'search', 'for'): 1,\n",
              " ('search', 'for', 'mr'): 2,\n",
              " ('for', 'mr', 'hyde'): 3,\n",
              " ('mr', 'hyde', 'dr'): 1,\n",
              " ('hyde', 'dr', 'jekyll'): 1,\n",
              " ('dr', 'jekyll', 'was'): 4,\n",
              " ('jekyll', 'was', 'quite'): 2,\n",
              " ('was', 'quite', 'at'): 2,\n",
              " ('quite', 'at', 'ease'): 2,\n",
              " ('at', 'ease', 'the'): 1,\n",
              " ('ease', 'the', 'carew'): 1,\n",
              " ('the', 'carew', 'murder'): 2,\n",
              " ('carew', 'murder', 'case'): 2,\n",
              " ('murder', 'case', 'incident'): 1,\n",
              " ('case', 'incident', 'of'): 1,\n",
              " ('incident', 'of', 'the'): 2,\n",
              " ('of', 'the', 'letter'): 2,\n",
              " ('the', 'letter', 'incident'): 1,\n",
              " ('letter', 'incident', 'of'): 1,\n",
              " ('incident', 'of', 'dr'): 2,\n",
              " ('of', 'dr', 'lanyon'): 2,\n",
              " ('dr', 'lanyon', 'incident'): 1,\n",
              " ('lanyon', 'incident', 'at'): 1,\n",
              " ('incident', 'at', 'the'): 2,\n",
              " ('at', 'the', 'window'): 2,\n",
              " ('the', 'window', 'the'): 1,\n",
              " ('window', 'the', 'last'): 1,\n",
              " ('the', 'last', 'night'): 2,\n",
              " ('last', 'night', 'dr'): 1,\n",
              " ('night', 'dr', 'lanyon’s'): 1,\n",
              " ('dr', 'lanyon’s', 'narrative'): 2,\n",
              " ('lanyon’s', 'narrative', 'henry'): 1,\n",
              " ('narrative', 'henry', 'jekyll’s'): 1,\n",
              " ('henry', 'jekyll’s', 'full'): 2,\n",
              " ('jekyll’s', 'full', 'statement'): 2,\n",
              " ('full', 'statement', 'of'): 2,\n",
              " ('statement', 'of', 'the'): 2,\n",
              " ('of', 'the', 'case'): 2,\n",
              " ('the', 'case', 'story'): 1,\n",
              " ('case', 'story', 'of'): 1,\n",
              " ('the', 'door', 'mr'): 1,\n",
              " ('door', 'mr', 'utterson'): 2,\n",
              " ('mr', 'utterson', 'the'): 3,\n",
              " ('utterson', 'the', 'lawyer'): 2,\n",
              " ('the', 'lawyer', 'was'): 2,\n",
              " ('lawyer', 'was', 'a'): 1,\n",
              " ('was', 'a', 'man'): 4,\n",
              " ('a', 'man', 'of'): 5,\n",
              " ('man', 'of', 'a'): 1,\n",
              " ('of', 'a', 'rugged'): 1,\n",
              " ('a', 'rugged', 'countenance'): 1,\n",
              " ('rugged', 'countenance', 'that'): 1,\n",
              " ('countenance', 'that', 'was'): 1,\n",
              " ('that', 'was', 'never'): 1,\n",
              " ('was', 'never', 'lighted'): 1,\n",
              " ('never', 'lighted', 'by'): 1,\n",
              " ('lighted', 'by', 'a'): 1,\n",
              " ('by', 'a', 'smile'): 1,\n",
              " ('a', 'smile', 'cold'): 1,\n",
              " ('smile', 'cold', 'scanty'): 1,\n",
              " ('cold', 'scanty', 'and'): 1,\n",
              " ('scanty', 'and', 'embarrassed'): 1,\n",
              " ('and', 'embarrassed', 'in'): 1,\n",
              " ('embarrassed', 'in', 'discourse'): 1,\n",
              " ('in', 'discourse', 'backward'): 1,\n",
              " ('discourse', 'backward', 'in'): 1,\n",
              " ('backward', 'in', 'sentiment'): 1,\n",
              " ('in', 'sentiment', 'lean'): 1,\n",
              " ('sentiment', 'lean', 'long'): 1,\n",
              " ('lean', 'long', 'dusty'): 1,\n",
              " ('long', 'dusty', 'dreary'): 1,\n",
              " ('dusty', 'dreary', 'and'): 1,\n",
              " ('dreary', 'and', 'yet'): 1,\n",
              " ('and', 'yet', 'somehow'): 1,\n",
              " ('yet', 'somehow', 'lovable'): 1,\n",
              " ('somehow', 'lovable', 'at'): 1,\n",
              " ('lovable', 'at', 'friendly'): 1,\n",
              " ('at', 'friendly', 'meetings'): 1,\n",
              " ('friendly', 'meetings', 'and'): 1,\n",
              " ('meetings', 'and', 'when'): 1,\n",
              " ('and', 'when', 'the'): 4,\n",
              " ('when', 'the', 'wine'): 1,\n",
              " ('the', 'wine', 'was'): 2,\n",
              " ('wine', 'was', 'to'): 1,\n",
              " ('was', 'to', 'his'): 2,\n",
              " ('to', 'his', 'taste'): 1,\n",
              " ('his', 'taste', 'something'): 1,\n",
              " ('taste', 'something', 'eminently'): 1,\n",
              " ('something', 'eminently', 'human'): 1,\n",
              " ('eminently', 'human', 'beaconed'): 1,\n",
              " ('human', 'beaconed', 'from'): 1,\n",
              " ('beaconed', 'from', 'his'): 1,\n",
              " ('from', 'his', 'eye'): 1,\n",
              " ('his', 'eye', 'something'): 1,\n",
              " ('eye', 'something', 'indeed'): 1,\n",
              " ('something', 'indeed', 'which'): 1,\n",
              " ('indeed', 'which', 'never'): 1,\n",
              " ('which', 'never', 'found'): 1,\n",
              " ('never', 'found', 'its'): 1,\n",
              " ('found', 'its', 'way'): 1,\n",
              " ('its', 'way', 'into'): 1,\n",
              " ('way', 'into', 'his'): 2,\n",
              " ('into', 'his', 'talk'): 1,\n",
              " ('his', 'talk', 'but'): 1,\n",
              " ('talk', 'but', 'which'): 1,\n",
              " ('but', 'which', 'spoke'): 1,\n",
              " ('which', 'spoke', 'not'): 1,\n",
              " ('spoke', 'not', 'only'): 1,\n",
              " ('not', 'only', 'in'): 2,\n",
              " ('only', 'in', 'these'): 1,\n",
              " ('in', 'these', 'silent'): 1,\n",
              " ('these', 'silent', 'symbols'): 1,\n",
              " ('silent', 'symbols', 'of'): 1,\n",
              " ('symbols', 'of', 'the'): 1,\n",
              " ('of', 'the', 'after-dinner'): 1,\n",
              " ('the', 'after-dinner', 'face'): 1,\n",
              " ('after-dinner', 'face', 'but'): 1,\n",
              " ('face', 'but', 'more'): 1,\n",
              " ('but', 'more', 'often'): 1,\n",
              " ('more', 'often', 'and'): 1,\n",
              " ('often', 'and', 'loudly'): 1,\n",
              " ('and', 'loudly', 'in'): 1,\n",
              " ('loudly', 'in', 'the'): 1,\n",
              " ('in', 'the', 'acts'): 1,\n",
              " ('the', 'acts', 'of'): 2,\n",
              " ('acts', 'of', 'his'): 1,\n",
              " ('of', 'his', 'life'): 3,\n",
              " ('his', 'life', 'he'): 1,\n",
              " ('life', 'he', 'was'): 1,\n",
              " ('he', 'was', 'austere'): 1,\n",
              " ('was', 'austere', 'with'): 1,\n",
              " ('austere', 'with', 'himself'): 1,\n",
              " ('with', 'himself', 'drank'): 1,\n",
              " ('himself', 'drank', 'gin'): 1,\n",
              " ('drank', 'gin', 'when'): 1,\n",
              " ('gin', 'when', 'he'): 1,\n",
              " ('when', 'he', 'was'): 4,\n",
              " ('he', 'was', 'alone'): 1,\n",
              " ('was', 'alone', 'to'): 1,\n",
              " ('alone', 'to', 'mortify'): 1,\n",
              " ('to', 'mortify', 'a'): 1,\n",
              " ('mortify', 'a', 'taste'): 1,\n",
              " ('a', 'taste', 'for'): 1,\n",
              " ('taste', 'for', 'vintages'): 1,\n",
              " ('for', 'vintages', 'and'): 1,\n",
              " ('vintages', 'and', 'though'): 1,\n",
              " ('and', 'though', 'he'): 2,\n",
              " ('though', 'he', 'enjoyed'): 1,\n",
              " ('he', 'enjoyed', 'the'): 1,\n",
              " ('enjoyed', 'the', 'theatre'): 1,\n",
              " ('the', 'theatre', 'had'): 1,\n",
              " ('theatre', 'had', 'not'): 1,\n",
              " ('had', 'not', 'crossed'): 1,\n",
              " ('not', 'crossed', 'the'): 1,\n",
              " ('crossed', 'the', 'doors'): 1,\n",
              " ('the', 'doors', 'of'): 2,\n",
              " ('doors', 'of', 'one'): 1,\n",
              " ('of', 'one', 'for'): 1,\n",
              " ('one', 'for', 'twenty'): 1,\n",
              " ('for', 'twenty', 'years'): 1,\n",
              " ('twenty', 'years', 'but'): 1,\n",
              " ('years', 'but', 'he'): 1,\n",
              " ('but', 'he', 'had'): 2,\n",
              " ('he', 'had', 'an'): 1,\n",
              " ('had', 'an', 'approved'): 1,\n",
              " ('an', 'approved', 'tolerance'): 1,\n",
              " ('approved', 'tolerance', 'for'): 1,\n",
              " ('tolerance', 'for', 'others'): 1,\n",
              " ('for', 'others', 'sometimes'): 1,\n",
              " ('others', 'sometimes', 'wondering'): 1,\n",
              " ('sometimes', 'wondering', 'almost'): 1,\n",
              " ('wondering', 'almost', 'with'): 1,\n",
              " ('almost', 'with', 'envy'): 1,\n",
              " ('with', 'envy', 'at'): 1,\n",
              " ('envy', 'at', 'the'): 1,\n",
              " ('at', 'the', 'high'): 1,\n",
              " ('the', 'high', 'pressure'): 1,\n",
              " ('high', 'pressure', 'of'): 1,\n",
              " ('pressure', 'of', 'spirits'): 1,\n",
              " ('of', 'spirits', 'involved'): 1,\n",
              " ('spirits', 'involved', 'in'): 1,\n",
              " ('involved', 'in', 'their'): 1,\n",
              " ('in', 'their', 'misdeeds'): 1,\n",
              " ('their', 'misdeeds', 'and'): 1,\n",
              " ('misdeeds', 'and', 'in'): 1,\n",
              " ('and', 'in', 'any'): 1,\n",
              " ('in', 'any', 'extremity'): 1,\n",
              " ('any', 'extremity', 'inclined'): 1,\n",
              " ('extremity', 'inclined', 'to'): 1,\n",
              " ('inclined', 'to', 'help'): 1,\n",
              " ('to', 'help', 'rather'): 1,\n",
              " ('help', 'rather', 'than'): 1,\n",
              " ('rather', 'than', 'to'): 2,\n",
              " ('than', 'to', 'reprove'): 1,\n",
              " ('to', 'reprove', 'i'): 1,\n",
              " ('reprove', 'i', 'incline'): 1,\n",
              " ('i', 'incline', 'to'): 1,\n",
              " ('incline', 'to', 'cain’s'): 1,\n",
              " ('to', 'cain’s', 'heresy'): 1,\n",
              " ('cain’s', 'heresy', 'he'): 1,\n",
              " ('heresy', 'he', 'used'): 1,\n",
              " ('he', 'used', 'to'): 1,\n",
              " ('used', 'to', 'say'): 2,\n",
              " ('to', 'say', 'quaintly'): 1,\n",
              " ('say', 'quaintly', 'i'): 1,\n",
              " ('quaintly', 'i', 'let'): 1,\n",
              " ('i', 'let', 'my'): 1,\n",
              " ('let', 'my', 'brother'): 1,\n",
              " ('my', 'brother', 'go'): 1,\n",
              " ('brother', 'go', 'to'): 1,\n",
              " ('go', 'to', 'the'): 1,\n",
              " ('to', 'the', 'devil'): 1,\n",
              " ('the', 'devil', 'in'): 1,\n",
              " ('devil', 'in', 'his'): 1,\n",
              " ('in', 'his', 'own'): 3,\n",
              " ('his', 'own', 'way'): 1,\n",
              " ('own', 'way', 'in'): 1,\n",
              " ('way', 'in', 'this'): 1,\n",
              " ('in', 'this', 'character'): 1,\n",
              " ('this', 'character', 'it'): 1,\n",
              " ('character', 'it', 'was'): 1,\n",
              " ('it', 'was', 'frequently'): 1,\n",
              " ('was', 'frequently', 'his'): 1,\n",
              " ('frequently', 'his', 'fortune'): 1,\n",
              " ('his', 'fortune', 'to'): 1,\n",
              " ('fortune', 'to', 'be'): 1,\n",
              " ('to', 'be', 'the'): 3,\n",
              " ('be', 'the', 'last'): 2,\n",
              " ('the', 'last', 'reputable'): 1,\n",
              " ('last', 'reputable', 'acquaintance'): 1,\n",
              " ('reputable', 'acquaintance', 'and'): 1,\n",
              " ('acquaintance', 'and', 'the'): 1,\n",
              " ('and', 'the', 'last'): 1,\n",
              " ('the', 'last', 'good'): 1,\n",
              " ('last', 'good', 'influence'): 1,\n",
              " ('good', 'influence', 'in'): 1,\n",
              " ('influence', 'in', 'the'): 1,\n",
              " ('in', 'the', 'lives'): 1,\n",
              " ('the', 'lives', 'of'): 1,\n",
              " ('lives', 'of', 'downgoing'): 1,\n",
              " ('of', 'downgoing', 'men'): 1,\n",
              " ('downgoing', 'men', 'and'): 1,\n",
              " ('men', 'and', 'to'): 1,\n",
              " ('and', 'to', 'such'): 1,\n",
              " ('to', 'such', 'as'): 1,\n",
              " ('such', 'as', 'these'): 1,\n",
              " ('as', 'these', 'so'): 1,\n",
              " ('these', 'so', 'long'): 1,\n",
              " ('so', 'long', 'as'): 1,\n",
              " ('long', 'as', 'they'): 1,\n",
              " ('as', 'they', 'came'): 1,\n",
              " ('they', 'came', 'about'): 1,\n",
              " ('came', 'about', 'his'): 1,\n",
              " ('about', 'his', 'chambers'): 1,\n",
              " ('his', 'chambers', 'he'): 1,\n",
              " ('chambers', 'he', 'never'): 1,\n",
              " ('he', 'never', 'marked'): 1,\n",
              " ('never', 'marked', 'a'): 1,\n",
              " ('marked', 'a', 'shade'): 1,\n",
              " ('a', 'shade', 'of'): 1,\n",
              " ('shade', 'of', 'change'): 1,\n",
              " ('of', 'change', 'in'): 1,\n",
              " ('change', 'in', 'his'): 1,\n",
              " ('in', 'his', 'demeanour'): 1,\n",
              " ('his', 'demeanour', 'no'): 1,\n",
              " ('demeanour', 'no', 'doubt'): 1,\n",
              " ('no', 'doubt', 'the'): 2,\n",
              " ('doubt', 'the', 'feat'): 1,\n",
              " ('the', 'feat', 'was'): 1,\n",
              " ('feat', 'was', 'easy'): 1,\n",
              " ('was', 'easy', 'to'): 1,\n",
              " ('easy', 'to', 'mr'): 1,\n",
              " ('to', 'mr', 'utterson'): 2,\n",
              " ('mr', 'utterson', 'for'): 1,\n",
              " ('utterson', 'for', 'he'): 1,\n",
              " ('for', 'he', 'was'): 1,\n",
              " ('he', 'was', 'undemonstrative'): 1,\n",
              " ('was', 'undemonstrative', 'at'): 1,\n",
              " ('undemonstrative', 'at', 'the'): 1,\n",
              " ('at', 'the', 'best'): 2,\n",
              " ('the', 'best', 'and'): 1,\n",
              " ('best', 'and', 'even'): 1,\n",
              " ('and', 'even', 'his'): 1,\n",
              " ('even', 'his', 'friendship'): 1,\n",
              " ('his', 'friendship', 'seemed'): 1,\n",
              " ('friendship', 'seemed', 'to'): 1,\n",
              " ('seemed', 'to', 'be'): 2,\n",
              " ('to', 'be', 'founded'): 1,\n",
              " ('be', 'founded', 'in'): 1,\n",
              " ('founded', 'in', 'a'): 1,\n",
              " ('in', 'a', 'similar'): 1,\n",
              " ('a', 'similar', 'catholicity'): 1,\n",
              " ('similar', 'catholicity', 'of'): 1,\n",
              " ('catholicity', 'of', 'good-nature'): 1,\n",
              " ('of', 'good-nature', 'it'): 1,\n",
              " ('good-nature', 'it', 'is'): 1,\n",
              " ('it', 'is', 'the'): 2,\n",
              " ('is', 'the', 'mark'): 1,\n",
              " ('the', 'mark', 'of'): 1,\n",
              " ('mark', 'of', 'a'): 1,\n",
              " ('of', 'a', 'modest'): 1,\n",
              " ('a', 'modest', 'man'): 1,\n",
              " ('modest', 'man', 'to'): 1,\n",
              " ('man', 'to', 'accept'): 1,\n",
              " ('to', 'accept', 'his'): 1,\n",
              " ('accept', 'his', 'friendly'): 1,\n",
              " ('his', 'friendly', 'circle'): 1,\n",
              " ('friendly', 'circle', 'ready-made'): 1,\n",
              " ('circle', 'ready-made', 'from'): 1,\n",
              " ('ready-made', 'from', 'the'): 1,\n",
              " ('from', 'the', 'hands'): 1,\n",
              " ('the', 'hands', 'of'): 6,\n",
              " ('hands', 'of', 'opportunity'): 1,\n",
              " ('of', 'opportunity', 'and'): 1,\n",
              " ('opportunity', 'and', 'that'): 1,\n",
              " ('and', 'that', 'was'): 2,\n",
              " ('that', 'was', 'the'): 7,\n",
              " ('was', 'the', 'lawyer’s'): 1,\n",
              " ('the', 'lawyer’s', 'way'): 1,\n",
              " ('lawyer’s', 'way', 'his'): 1,\n",
              " ('way', 'his', 'friends'): 1,\n",
              " ('his', 'friends', 'were'): 1,\n",
              " ('friends', 'were', 'those'): 1,\n",
              " ('were', 'those', 'of'): 1,\n",
              " ('those', 'of', 'his'): 1,\n",
              " ('of', 'his', 'own'): 3,\n",
              " ('his', 'own', 'blood'): 1,\n",
              " ('own', 'blood', 'or'): 1,\n",
              " ('blood', 'or', 'those'): 1,\n",
              " ('or', 'those', 'whom'): 1,\n",
              " ('those', 'whom', 'he'): 1,\n",
              " ('whom', 'he', 'had'): 2,\n",
              " ('he', 'had', 'known'): 1,\n",
              " ('had', 'known', 'the'): 1,\n",
              " ('known', 'the', 'longest'): 1,\n",
              " ('the', 'longest', 'his'): 1,\n",
              " ('longest', 'his', 'affections'): 1,\n",
              " ('his', 'affections', 'like'): 1,\n",
              " ('affections', 'like', 'ivy'): 1,\n",
              " ('like', 'ivy', 'were'): 1,\n",
              " ('ivy', 'were', 'the'): 1,\n",
              " ('were', 'the', 'growth'): 1,\n",
              " ('the', 'growth', 'of'): 1,\n",
              " ('growth', 'of', 'time'): 1,\n",
              " ('of', 'time', 'they'): 1,\n",
              " ('time', 'they', 'implied'): 1,\n",
              " ('they', 'implied', 'no'): 1,\n",
              " ('implied', 'no', 'aptness'): 1,\n",
              " ('no', 'aptness', 'in'): 1,\n",
              " ('aptness', 'in', 'the'): 1,\n",
              " ('in', 'the', 'object'): 1,\n",
              " ('the', 'object', 'hence'): 1,\n",
              " ('object', 'hence', 'no'): 1,\n",
              " ('hence', 'no', 'doubt'): 1,\n",
              " ('doubt', 'the', 'bond'): 1,\n",
              " ('the', 'bond', 'that'): 1,\n",
              " ('bond', 'that', 'united'): 1,\n",
              " ('that', 'united', 'him'): 1,\n",
              " ('united', 'him', 'to'): 1,\n",
              " ('him', 'to', 'mr'): 1,\n",
              " ('to', 'mr', 'richard'): 1,\n",
              " ('mr', 'richard', 'enfield'): 1,\n",
              " ('richard', 'enfield', 'his'): 1,\n",
              " ('enfield', 'his', 'distant'): 1,\n",
              " ('his', 'distant', 'kinsman'): 1,\n",
              " ('distant', 'kinsman', 'the'): 1,\n",
              " ('kinsman', 'the', 'well-known'): 1,\n",
              " ('the', 'well-known', 'man'): 1,\n",
              " ('well-known', 'man', 'about'): 1,\n",
              " ('man', 'about', 'town'): 1,\n",
              " ('about', 'town', 'it'): 1,\n",
              " ('town', 'it', 'was'): 1,\n",
              " ('it', 'was', 'a'): 11,\n",
              " ('was', 'a', 'nut'): 1,\n",
              " ('a', 'nut', 'to'): 1,\n",
              " ('nut', 'to', 'crack'): 1,\n",
              " ('to', 'crack', 'for'): 1,\n",
              " ('crack', 'for', 'many'): 1,\n",
              " ('for', 'many', 'what'): 1,\n",
              " ('many', 'what', 'these'): 1,\n",
              " ('what', 'these', 'two'): 1,\n",
              " ('these', 'two', 'could'): 1,\n",
              " ('two', 'could', 'see'): 1,\n",
              " ('could', 'see', 'in'): 2,\n",
              " ('see', 'in', 'each'): 1,\n",
              " ('in', 'each', 'other'): 1,\n",
              " ('each', 'other', 'or'): 1,\n",
              " ('other', 'or', 'what'): 1,\n",
              " ('or', 'what', 'subject'): 1,\n",
              " ('what', 'subject', 'they'): 1,\n",
              " ('subject', 'they', 'could'): 1,\n",
              " ('they', 'could', 'find'): 1,\n",
              " ('could', 'find', 'in'): 1,\n",
              " ('find', 'in', 'common'): 1,\n",
              " ('in', 'common', 'it'): 1,\n",
              " ('common', 'it', 'was'): 1,\n",
              " ('it', 'was', 'reported'): 1,\n",
              " ('was', 'reported', 'by'): 1,\n",
              " ('reported', 'by', 'those'): 1,\n",
              " ('by', 'those', 'who'): 1,\n",
              " ('those', 'who', 'encountered'): 1,\n",
              " ('who', 'encountered', 'them'): 1,\n",
              " ('encountered', 'them', 'in'): 1,\n",
              " ('them', 'in', 'their'): 1,\n",
              " ('in', 'their', 'sunday'): 1,\n",
              " ('their', 'sunday', 'walks'): 1,\n",
              " ('sunday', 'walks', 'that'): 1,\n",
              " ('walks', 'that', 'they'): 1,\n",
              " ('that', 'they', 'said'): 1,\n",
              " ('they', 'said', 'nothing'): 1,\n",
              " ('said', 'nothing', 'looked'): 1,\n",
              " ('nothing', 'looked', 'singularly'): 1,\n",
              " ('looked', 'singularly', 'dull'): 1,\n",
              " ('singularly', 'dull', 'and'): 1,\n",
              " ('dull', 'and', 'would'): 1,\n",
              " ('and', 'would', 'hail'): 1,\n",
              " ('would', 'hail', 'with'): 1,\n",
              " ('hail', 'with', 'obvious'): 1,\n",
              " ('with', 'obvious', 'relief'): 1,\n",
              " ('obvious', 'relief', 'the'): 1,\n",
              " ('relief', 'the', 'appearance'): 1,\n",
              " ('the', 'appearance', 'of'): 2,\n",
              " ('appearance', 'of', 'a'): 1,\n",
              " ('of', 'a', 'friend'): 2,\n",
              " ('a', 'friend', 'for'): 1,\n",
              " ('friend', 'for', 'all'): 1,\n",
              " ('for', 'all', 'that'): 3,\n",
              " ('all', 'that', 'the'): 1,\n",
              " ('that', 'the', 'two'): 1,\n",
              " ('the', 'two', 'men'): 2,\n",
              " ('two', 'men', 'put'): 1,\n",
              " ('men', 'put', 'the'): 1,\n",
              " ('put', 'the', 'greatest'): 1,\n",
              " ('the', 'greatest', 'store'): 1,\n",
              " ('greatest', 'store', 'by'): 1,\n",
              " ('store', 'by', 'these'): 1,\n",
              " ('by', 'these', 'excursions'): 1,\n",
              " ('these', 'excursions', 'counted'): 1,\n",
              " ('excursions', 'counted', 'them'): 1,\n",
              " ('counted', 'them', 'the'): 1,\n",
              " ('them', 'the', 'chief'): 1,\n",
              " ('the', 'chief', 'jewel'): 1,\n",
              " ('chief', 'jewel', 'of'): 1,\n",
              " ('jewel', 'of', 'each'): 1,\n",
              " ('of', 'each', 'week'): 1,\n",
              " ('each', 'week', 'and'): 1,\n",
              " ('week', 'and', 'not'): 1,\n",
              " ('and', 'not', 'only'): 1,\n",
              " ('not', 'only', 'set'): 1,\n",
              " ('only', 'set', 'aside'): 1,\n",
              " ('set', 'aside', 'occasions'): 1,\n",
              " ('aside', 'occasions', 'of'): 1,\n",
              " ('occasions', 'of', 'pleasure'): 1,\n",
              " ('of', 'pleasure', 'but'): 1,\n",
              " ('pleasure', 'but', 'even'): 1,\n",
              " ('but', 'even', 'resisted'): 1,\n",
              " ('even', 'resisted', 'the'): 1,\n",
              " ('resisted', 'the', 'calls'): 1,\n",
              " ('the', 'calls', 'of'): 1,\n",
              " ('calls', 'of', 'business'): 1,\n",
              " ('of', 'business', 'that'): 1,\n",
              " ('business', 'that', 'they'): 1,\n",
              " ('that', 'they', 'might'): 1,\n",
              " ('they', 'might', 'enjoy'): 1,\n",
              " ('might', 'enjoy', 'them'): 1,\n",
              " ('enjoy', 'them', 'uninterrupted'): 1,\n",
              " ('them', 'uninterrupted', 'it'): 1,\n",
              " ('uninterrupted', 'it', 'chanced'): 1,\n",
              " ('it', 'chanced', 'on'): 2,\n",
              " ('chanced', 'on', 'one'): 1,\n",
              " ('on', 'one', 'of'): 1,\n",
              " ('one', 'of', 'these'): 1,\n",
              " ('of', 'these', 'rambles'): 1,\n",
              " ('these', 'rambles', 'that'): 1,\n",
              " ('rambles', 'that', 'their'): 1,\n",
              " ('that', 'their', 'way'): 2,\n",
              " ('their', 'way', 'led'): 1,\n",
              " ('way', 'led', 'them'): 1,\n",
              " ('led', 'them', 'down'): 1,\n",
              " ('them', 'down', 'a'): 1,\n",
              " ('down', 'a', 'by-street'): 1,\n",
              " ('a', 'by-street', 'in'): 1,\n",
              " ('by-street', 'in', 'a'): 1,\n",
              " ('in', 'a', 'busy'): 1,\n",
              " ('a', 'busy', 'quarter'): 1,\n",
              " ('busy', 'quarter', 'of'): 1,\n",
              " ('quarter', 'of', 'london'): 1,\n",
              " ('of', 'london', 'the'): 1,\n",
              " ('london', 'the', 'street'): 1,\n",
              " ('the', 'street', 'was'): 1,\n",
              " ('street', 'was', 'small'): 1,\n",
              " ('was', 'small', 'and'): 2,\n",
              " ('small', 'and', 'what'): 1,\n",
              " ('and', 'what', 'is'): 2,\n",
              " ('what', 'is', 'called'): 1,\n",
              " ('is', 'called', 'quiet'): 1,\n",
              " ('called', 'quiet', 'but'): 1,\n",
              " ('quiet', 'but', 'it'): 1,\n",
              " ('but', 'it', 'drove'): 1,\n",
              " ('it', 'drove', 'a'): 1,\n",
              " ('drove', 'a', 'thriving'): 1,\n",
              " ('a', 'thriving', 'trade'): 1,\n",
              " ('thriving', 'trade', 'on'): 1,\n",
              " ('trade', 'on', 'the'): 1,\n",
              " ('on', 'the', 'weekdays'): 1,\n",
              " ('the', 'weekdays', 'the'): 1,\n",
              " ('weekdays', 'the', 'inhabitants'): 1,\n",
              " ('the', 'inhabitants', 'were'): 1,\n",
              " ('inhabitants', 'were', 'all'): 1,\n",
              " ('were', 'all', 'doing'): 1,\n",
              " ('all', 'doing', 'well'): 1,\n",
              " ('doing', 'well', 'it'): 1,\n",
              " ('well', 'it', 'seemed'): 1,\n",
              " ('it', 'seemed', 'and'): 1,\n",
              " ('seemed', 'and', 'all'): 1,\n",
              " ('and', 'all', 'emulously'): 1,\n",
              " ('all', 'emulously', 'hoping'): 1,\n",
              " ('emulously', 'hoping', 'to'): 1,\n",
              " ('hoping', 'to', 'do'): 1,\n",
              " ('to', 'do', 'better'): 1,\n",
              " ('do', 'better', 'still'): 1,\n",
              " ('better', 'still', 'and'): 1,\n",
              " ('still', 'and', 'laying'): 1,\n",
              " ('and', 'laying', 'out'): 1,\n",
              " ('laying', 'out', 'the'): 1,\n",
              " ('out', 'the', 'surplus'): 1,\n",
              " ('the', 'surplus', 'of'): 1,\n",
              " ('surplus', 'of', 'their'): 1,\n",
              " ('of', 'their', 'grains'): 1,\n",
              " ('their', 'grains', 'in'): 1,\n",
              " ('grains', 'in', 'coquetry'): 1,\n",
              " ('in', 'coquetry', 'so'): 1,\n",
              " ('coquetry', 'so', 'that'): 1,\n",
              " ('so', 'that', 'the'): 1,\n",
              " ('that', 'the', 'shop'): 1,\n",
              " ('the', 'shop', 'fronts'): 1,\n",
              " ('shop', 'fronts', 'stood'): 1,\n",
              " ('fronts', 'stood', 'along'): 1,\n",
              " ('stood', 'along', 'that'): 1,\n",
              " ('along', 'that', 'thoroughfare'): 1,\n",
              " ('that', 'thoroughfare', 'with'): 1,\n",
              " ('thoroughfare', 'with', 'an'): 1,\n",
              " ('with', 'an', 'air'): 4,\n",
              " ('an', 'air', 'of'): 4,\n",
              " ('air', 'of', 'invitation'): 1,\n",
              " ('of', 'invitation', 'like'): 1,\n",
              " ('invitation', 'like', 'rows'): 1,\n",
              " ('like', 'rows', 'of'): 1,\n",
              " ('rows', 'of', 'smiling'): 1,\n",
              " ('of', 'smiling', 'saleswomen'): 1,\n",
              " ('smiling', 'saleswomen', 'even'): 1,\n",
              " ('saleswomen', 'even', 'on'): 1,\n",
              " ('even', 'on', 'sunday'): 1,\n",
              " ('on', 'sunday', 'when'): 2,\n",
              " ('sunday', 'when', 'it'): 1,\n",
              " ('when', 'it', 'veiled'): 1,\n",
              " ('it', 'veiled', 'its'): 1,\n",
              " ('veiled', 'its', 'more'): 1,\n",
              " ('its', 'more', 'florid'): 1,\n",
              " ('more', 'florid', 'charms'): 1,\n",
              " ('florid', 'charms', 'and'): 1,\n",
              " ('charms', 'and', 'lay'): 1,\n",
              " ('and', 'lay', 'comparatively'): 1,\n",
              " ('lay', 'comparatively', 'empty'): 1,\n",
              " ('comparatively', 'empty', 'of'): 1,\n",
              " ('empty', 'of', 'passage'): 1,\n",
              " ('of', 'passage', 'the'): 1,\n",
              " ('passage', 'the', 'street'): 1,\n",
              " ('the', 'street', 'shone'): 1,\n",
              " ('street', 'shone', 'out'): 1,\n",
              " ('shone', 'out', 'in'): 1,\n",
              " ('out', 'in', 'contrast'): 1,\n",
              " ('in', 'contrast', 'to'): 1,\n",
              " ('contrast', 'to', 'its'): 1,\n",
              " ('to', 'its', 'dingy'): 1,\n",
              " ('its', 'dingy', 'neighbourhood'): 1,\n",
              " ('dingy', 'neighbourhood', 'like'): 1,\n",
              " ('neighbourhood', 'like', 'a'): 1,\n",
              " ('like', 'a', 'fire'): 1,\n",
              " ('a', 'fire', 'in'): 1,\n",
              " ('fire', 'in', 'a'): 1,\n",
              " ('in', 'a', 'forest'): 1,\n",
              " ('a', 'forest', 'and'): 1,\n",
              " ('forest', 'and', 'with'): 1,\n",
              " ('and', 'with', 'its'): 1,\n",
              " ('with', 'its', 'freshly'): 1,\n",
              " ('its', 'freshly', 'painted'): 1,\n",
              " ('freshly', 'painted', 'shutters'): 1,\n",
              " ('painted', 'shutters', 'well-polished'): 1,\n",
              " ('shutters', 'well-polished', 'brasses'): 1,\n",
              " ('well-polished', 'brasses', 'and'): 1,\n",
              " ('brasses', 'and', 'general'): 1,\n",
              " ('and', 'general', 'cleanliness'): 1,\n",
              " ('general', 'cleanliness', 'and'): 1,\n",
              " ('cleanliness', 'and', 'gaiety'): 1,\n",
              " ('and', 'gaiety', 'of'): 1,\n",
              " ('gaiety', 'of', 'note'): 1,\n",
              " ('of', 'note', 'instantly'): 1,\n",
              " ('note', 'instantly', 'caught'): 1,\n",
              " ('instantly', 'caught', 'and'): 1,\n",
              " ('caught', 'and', 'pleased'): 1,\n",
              " ('and', 'pleased', 'the'): 1,\n",
              " ('pleased', 'the', 'eye'): 1,\n",
              " ('the', 'eye', 'of'): 2,\n",
              " ('eye', 'of', 'the'): 1,\n",
              " ('of', 'the', 'passenger'): 1,\n",
              " ('the', 'passenger', 'two'): 1,\n",
              " ('passenger', 'two', 'doors'): 1,\n",
              " ('two', 'doors', 'from'): 1,\n",
              " ('doors', 'from', 'one'): 1,\n",
              " ('from', 'one', 'corner'): 1,\n",
              " ('one', 'corner', 'on'): 1,\n",
              " ('corner', 'on', 'the'): 1,\n",
              " ('on', 'the', 'left'): 2,\n",
              " ('the', 'left', 'hand'): 2,\n",
              " ('left', 'hand', 'going'): 1,\n",
              " ('hand', 'going', 'east'): 1,\n",
              " ('going', 'east', 'the'): 1,\n",
              " ('east', 'the', 'line'): 1,\n",
              " ('the', 'line', 'was'): 1,\n",
              " ('line', 'was', 'broken'): 1,\n",
              " ('was', 'broken', 'by'): 1,\n",
              " ('broken', 'by', 'the'): 2,\n",
              " ('by', 'the', 'entry'): 1,\n",
              " ('the', 'entry', 'of'): 2,\n",
              " ('entry', 'of', 'a'): 1,\n",
              " ('of', 'a', 'court'): 1,\n",
              " ('a', 'court', 'and'): 1,\n",
              " ('court', 'and', 'just'): 1,\n",
              " ('and', 'just', 'at'): 1,\n",
              " ('just', 'at', 'that'): 1,\n",
              " ('at', 'that', 'point'): 1,\n",
              " ('that', 'point', 'a'): 1,\n",
              " ('point', 'a', 'certain'): 1,\n",
              " ('a', 'certain', 'sinister'): 1,\n",
              " ('certain', 'sinister', 'block'): 1,\n",
              " ('sinister', 'block', 'of'): 1,\n",
              " ('block', 'of', 'building'): 1,\n",
              " ('of', 'building', 'thrust'): 1,\n",
              " ('building', 'thrust', 'forward'): 1,\n",
              " ('thrust', 'forward', 'its'): 1,\n",
              " ('forward', 'its', 'gable'): 1,\n",
              " ('its', 'gable', 'on'): 1,\n",
              " ('gable', 'on', 'the'): 1,\n",
              " ('on', 'the', 'street'): 1,\n",
              " ('the', 'street', 'it'): 1,\n",
              " ('street', 'it', 'was'): 1,\n",
              " ('it', 'was', 'two'): 2,\n",
              " ('was', 'two', 'storeys'): 1,\n",
              " ('two', 'storeys', 'high'): 1,\n",
              " ('storeys', 'high', 'showed'): 1,\n",
              " ('high', 'showed', 'no'): 1,\n",
              " ('showed', 'no', 'window'): 1,\n",
              " ('no', 'window', 'nothing'): 1,\n",
              " ('window', 'nothing', 'but'): 1,\n",
              " ('nothing', 'but', 'a'): 1,\n",
              " ('but', 'a', 'door'): 1,\n",
              " ('a', 'door', 'on'): 1,\n",
              " ('door', 'on', 'the'): 2,\n",
              " ('on', 'the', 'lower'): 1,\n",
              " ('the', 'lower', 'storey'): 1,\n",
              " ('lower', 'storey', 'and'): 1,\n",
              " ('storey', 'and', 'a'): 1,\n",
              " ('and', 'a', 'blind'): 1,\n",
              " ('a', 'blind', 'forehead'): 1,\n",
              " ('blind', 'forehead', 'of'): 1,\n",
              " ('forehead', 'of', 'discoloured'): 1,\n",
              " ('of', 'discoloured', 'wall'): 1,\n",
              " ('discoloured', 'wall', 'on'): 1,\n",
              " ('wall', 'on', 'the'): 1,\n",
              " ('on', 'the', 'upper'): 1,\n",
              " ('the', 'upper', 'and'): 1,\n",
              " ('upper', 'and', 'bore'): 1,\n",
              " ('and', 'bore', 'in'): 2,\n",
              " ('bore', 'in', 'every'): 1,\n",
              " ('in', 'every', 'feature'): 1,\n",
              " ('every', 'feature', 'the'): 1,\n",
              " ('feature', 'the', 'marks'): 1,\n",
              " ('the', 'marks', 'of'): 1,\n",
              " ('marks', 'of', 'prolonged'): 1,\n",
              " ('of', 'prolonged', 'and'): 1,\n",
              " ('prolonged', 'and', 'sordid'): 1,\n",
              " ('and', 'sordid', 'negligence'): 1,\n",
              " ('sordid', 'negligence', 'the'): 1,\n",
              " ('negligence', 'the', 'door'): 1,\n",
              " ('the', 'door', 'which'): 1,\n",
              " ('door', 'which', 'was'): 1,\n",
              " ('which', 'was', 'equipped'): 1,\n",
              " ('was', 'equipped', 'with'): 1,\n",
              " ('equipped', 'with', 'neither'): 1,\n",
              " ('with', 'neither', 'bell'): 1,\n",
              " ('neither', 'bell', 'nor'): 1,\n",
              " ('bell', 'nor', 'knocker'): 1,\n",
              " ('nor', 'knocker', 'was'): 1,\n",
              " ('knocker', 'was', 'blistered'): 1,\n",
              " ('was', 'blistered', 'and'): 1,\n",
              " ('blistered', 'and', 'distained'): 1,\n",
              " ('and', 'distained', 'tramps'): 1,\n",
              " ('distained', 'tramps', 'slouched'): 1,\n",
              " ('tramps', 'slouched', 'into'): 1,\n",
              " ('slouched', 'into', 'the'): 1,\n",
              " ('into', 'the', 'recess'): 1,\n",
              " ('the', 'recess', 'and'): 1,\n",
              " ('recess', 'and', 'struck'): 1,\n",
              " ('and', 'struck', 'matches'): 1,\n",
              " ('struck', 'matches', 'on'): 1,\n",
              " ('matches', 'on', 'the'): 1,\n",
              " ('on', 'the', 'panels'): 1,\n",
              " ('the', 'panels', 'children'): 1,\n",
              " ('panels', 'children', 'kept'): 1,\n",
              " ('children', 'kept', 'shop'): 1,\n",
              " ('kept', 'shop', 'upon'): 1,\n",
              " ('shop', 'upon', 'the'): 1,\n",
              " ('upon', 'the', 'steps'): 1,\n",
              " ('the', 'steps', 'the'): 1,\n",
              " ('steps', 'the', 'schoolboy'): 1,\n",
              " ('the', 'schoolboy', 'had'): 1,\n",
              " ('schoolboy', 'had', 'tried'): 1,\n",
              " ('had', 'tried', 'his'): 1,\n",
              " ('tried', 'his', 'knife'): 1,\n",
              " ('his', 'knife', 'on'): 1,\n",
              " ('knife', 'on', 'the'): 1,\n",
              " ('on', 'the', 'mouldings'): 1,\n",
              " ('the', 'mouldings', 'and'): 1,\n",
              " ('mouldings', 'and', 'for'): 1,\n",
              " ('and', 'for', 'close'): 1,\n",
              " ('for', 'close', 'on'): 1,\n",
              " ('close', 'on', 'a'): 1,\n",
              " ('on', 'a', 'generation'): 1,\n",
              " ('a', 'generation', 'no'): 1,\n",
              " ('generation', 'no', 'one'): 1,\n",
              " ('no', 'one', 'had'): 1,\n",
              " ('one', 'had', 'appeared'): 1,\n",
              " ('had', 'appeared', 'to'): 1,\n",
              " ('appeared', 'to', 'drive'): 1,\n",
              " ('to', 'drive', 'away'): 1,\n",
              " ('drive', 'away', 'these'): 1,\n",
              " ('away', 'these', 'random'): 1,\n",
              " ('these', 'random', 'visitors'): 1,\n",
              " ('random', 'visitors', 'or'): 1,\n",
              " ('visitors', 'or', 'to'): 1,\n",
              " ('or', 'to', 'repair'): 1,\n",
              " ('to', 'repair', 'their'): 1,\n",
              " ('repair', 'their', 'ravages'): 1,\n",
              " ('their', 'ravages', 'mr'): 1,\n",
              " ('ravages', 'mr', 'enfield'): 1,\n",
              " ('mr', 'enfield', 'and'): 2,\n",
              " ('enfield', 'and', 'the'): 1,\n",
              " ('and', 'the', 'lawyer'): 4,\n",
              " ('the', 'lawyer', 'were'): 1,\n",
              " ('lawyer', 'were', 'on'): 1,\n",
              " ('were', 'on', 'the'): 1,\n",
              " ('on', 'the', 'other'): 2,\n",
              " ('the', 'other', 'side'): 3,\n",
              " ('other', 'side', 'of'): 1,\n",
              " ('side', 'of', 'the'): 4,\n",
              " ('of', 'the', 'by-street'): 1,\n",
              " ('the', 'by-street', 'but'): 1,\n",
              " ('by-street', 'but', 'when'): 1,\n",
              " ('but', 'when', 'they'): 1,\n",
              " ('when', 'they', 'came'): 2,\n",
              " ('they', 'came', 'abreast'): 1,\n",
              " ('came', 'abreast', 'of'): 1,\n",
              " ('abreast', 'of', 'the'): 1,\n",
              " ('of', 'the', 'entry'): 1,\n",
              " ('the', 'entry', 'the'): 1,\n",
              " ('entry', 'the', 'former'): 1,\n",
              " ('the', 'former', 'lifted'): 1,\n",
              " ('former', 'lifted', 'up'): 1,\n",
              " ('lifted', 'up', 'his'): 1,\n",
              " ('up', 'his', 'cane'): 1,\n",
              " ('his', 'cane', 'and'): 1,\n",
              " ('cane', 'and', 'pointed'): 1,\n",
              " ('and', 'pointed', 'did'): 1,\n",
              " ('pointed', 'did', 'you'): 1,\n",
              " ('did', 'you', 'ever'): 2,\n",
              " ('you', 'ever', 'remark'): 1,\n",
              " ('ever', 'remark', 'that'): 1,\n",
              " ('remark', 'that', 'door'): 1,\n",
              " ('that', 'door', 'he'): 1,\n",
              " ('door', 'he', 'asked'): 1,\n",
              " ('he', 'asked', 'and'): 1,\n",
              " ('asked', 'and', 'when'): 1,\n",
              " ('and', 'when', 'his'): 1,\n",
              " ('when', 'his', 'companion'): 1,\n",
              " ('his', 'companion', 'had'): 1,\n",
              " ('companion', 'had', 'replied'): 1,\n",
              " ('had', 'replied', 'in'): 1,\n",
              " ('replied', 'in', 'the'): 1,\n",
              " ('in', 'the', 'affirmative'): 1,\n",
              " ('the', 'affirmative', 'it'): 1,\n",
              " ('affirmative', 'it', 'is'): 1,\n",
              " ('it', 'is', 'connected'): 1,\n",
              " ('is', 'connected', 'in'): 1,\n",
              " ('connected', 'in', 'my'): 1,\n",
              " ('in', 'my', 'mind'): 1,\n",
              " ('my', 'mind', 'added'): 1,\n",
              " ('mind', 'added', 'he'): 1,\n",
              " ('added', 'he', 'with'): 1,\n",
              " ('he', 'with', 'a'): 1,\n",
              " ('with', 'a', 'very'): 3,\n",
              " ('a', 'very', 'odd'): 2,\n",
              " ('very', 'odd', 'story'): 1,\n",
              " ('odd', 'story', 'indeed'): 1,\n",
              " ('story', 'indeed', 'said'): 1,\n",
              " ('indeed', 'said', 'mr'): 1,\n",
              " ('said', 'mr', 'utterson'): 16,\n",
              " ('mr', 'utterson', 'with'): 1,\n",
              " ('utterson', 'with', 'a'): 2,\n",
              " ('with', 'a', 'slight'): 1,\n",
              " ('a', 'slight', 'change'): 1,\n",
              " ('slight', 'change', 'of'): 1,\n",
              " ('change', 'of', 'voice'): 1,\n",
              " ('of', 'voice', 'and'): 1,\n",
              " ('voice', 'and', 'what'): 1,\n",
              " ('and', 'what', 'was'): 1,\n",
              " ('what', 'was', 'that'): 1,\n",
              " ('was', 'that', 'well'): 1,\n",
              " ('that', 'well', 'it'): 1,\n",
              " ('well', 'it', 'was'): 1,\n",
              " ('it', 'was', 'this'): 2,\n",
              " ('was', 'this', 'way'): 2,\n",
              " ('this', 'way', 'returned'): 1,\n",
              " ('way', 'returned', 'mr'): 1,\n",
              " ('returned', 'mr', 'enfield'): 2,\n",
              " ('mr', 'enfield', 'i'): 2,\n",
              " ('enfield', 'i', 'was'): 1,\n",
              " ('i', 'was', 'coming'): 1,\n",
              " ('was', 'coming', 'home'): 1,\n",
              " ('coming', 'home', 'from'): 1,\n",
              " ('home', 'from', 'some'): 1,\n",
              " ('from', 'some', 'place'): 1,\n",
              " ('some', 'place', 'at'): 1,\n",
              " ('place', 'at', 'the'): 1,\n",
              " ('at', 'the', 'end'): 1,\n",
              " ('the', 'end', 'of'): 2,\n",
              " ('end', 'of', 'the'): 3,\n",
              " ('of', 'the', 'world'): 2,\n",
              " ('the', 'world', 'about'): 1,\n",
              " ('world', 'about', 'three'): 1,\n",
              " ('about', 'three', 'o’clock'): 1,\n",
              " ('three', 'o’clock', 'of'): 1,\n",
              " ('o’clock', 'of', 'a'): 1,\n",
              " ('of', 'a', 'black'): 1,\n",
              " ('a', 'black', 'winter'): 1,\n",
              " ('black', 'winter', 'morning'): 1,\n",
              " ('winter', 'morning', 'and'): 1,\n",
              " ('morning', 'and', 'my'): 1,\n",
              " ('and', 'my', 'way'): 1,\n",
              " ('my', 'way', 'lay'): 1,\n",
              " ('way', 'lay', 'through'): 1,\n",
              " ('lay', 'through', 'a'): 1,\n",
              " ('through', 'a', 'part'): 1,\n",
              " ('a', 'part', 'of'): 1,\n",
              " ('part', 'of', 'town'): 1,\n",
              " ('of', 'town', 'where'): 1,\n",
              " ('town', 'where', 'there'): 1,\n",
              " ('where', 'there', 'was'): 2,\n",
              " ('there', 'was', 'literally'): 1,\n",
              " ('was', 'literally', 'nothing'): 1,\n",
              " ('literally', 'nothing', 'to'): 1,\n",
              " ('nothing', 'to', 'be'): 1,\n",
              " ('to', 'be', 'seen'): 2,\n",
              " ('be', 'seen', 'but'): 1,\n",
              " ('seen', 'but', 'lamps'): 1,\n",
              " ('but', 'lamps', 'street'): 1,\n",
              " ('lamps', 'street', 'after'): 1,\n",
              " ('street', 'after', 'street'): 2,\n",
              " ('after', 'street', 'and'): 1,\n",
              " ('street', 'and', 'all'): 1,\n",
              " ('and', 'all', 'the'): 3,\n",
              " ('all', 'the', 'folks'): 1,\n",
              " ('the', 'folks', 'asleep'): 1,\n",
              " ('folks', 'asleep', 'street'): 1,\n",
              " ('asleep', 'street', 'after'): 1,\n",
              " ('after', 'street', 'all'): 1,\n",
              " ('street', 'all', 'lighted'): 1,\n",
              " ('all', 'lighted', 'up'): 1,\n",
              " ('lighted', 'up', 'as'): 1,\n",
              " ('up', 'as', 'if'): 1,\n",
              " ('as', 'if', 'for'): 1,\n",
              " ('if', 'for', 'a'): 1,\n",
              " ('for', 'a', 'procession'): 1,\n",
              " ('a', 'procession', 'and'): 1,\n",
              " ('procession', 'and', 'all'): 1,\n",
              " ('and', 'all', 'as'): 1,\n",
              " ('all', 'as', 'empty'): 1,\n",
              " ('as', 'empty', 'as'): 1,\n",
              " ('empty', 'as', 'a'): 1,\n",
              " ('as', 'a', 'church'): 1,\n",
              " ('a', 'church', 'till'): 1,\n",
              " ('church', 'till', 'at'): 1,\n",
              " ('till', 'at', 'last'): 1,\n",
              " ('at', 'last', 'i'): 2,\n",
              " ('last', 'i', 'got'): 1,\n",
              " ('i', 'got', 'into'): 1,\n",
              " ('got', 'into', 'that'): 1,\n",
              " ('into', 'that', 'state'): 1,\n",
              " ('that', 'state', 'of'): 1,\n",
              " ('state', 'of', 'mind'): 1,\n",
              " ('of', 'mind', 'when'): 1,\n",
              " ('mind', 'when', 'a'): 1,\n",
              " ('when', 'a', 'man'): 1,\n",
              " ('a', 'man', 'listens'): 1,\n",
              " ('man', 'listens', 'and'): 1,\n",
              " ('listens', 'and', 'listens'): 1,\n",
              " ('and', 'listens', 'and'): 1,\n",
              " ('listens', 'and', 'begins'): 1,\n",
              " ('and', 'begins', 'to'): 1,\n",
              " ('begins', 'to', 'long'): 1,\n",
              " ('to', 'long', 'for'): 1,\n",
              " ('long', 'for', 'the'): 1,\n",
              " ('for', 'the', 'sight'): 1,\n",
              " ('the', 'sight', 'of'): 2,\n",
              " ('sight', 'of', 'a'): 1,\n",
              " ('of', 'a', 'policeman'): 1,\n",
              " ('a', 'policeman', 'all'): 1,\n",
              " ('policeman', 'all', 'at'): 1,\n",
              " ('all', 'at', 'once'): 1,\n",
              " ('at', 'once', 'i'): 1,\n",
              " ('once', 'i', 'saw'): 1,\n",
              " ('i', 'saw', 'two'): 1,\n",
              " ('saw', 'two', 'figures'): 1,\n",
              " ('two', 'figures', 'one'): 1,\n",
              " ('figures', 'one', 'a'): 1,\n",
              " ('one', 'a', 'little'): 1,\n",
              " ('a', 'little', 'man'): 1,\n",
              " ('little', 'man', 'who'): 1,\n",
              " ('man', 'who', 'was'): 3,\n",
              " ('who', 'was', 'stumping'): 1,\n",
              " ('was', 'stumping', 'along'): 1,\n",
              " ('stumping', 'along', 'eastward'): 1,\n",
              " ('along', 'eastward', 'at'): 1,\n",
              " ('eastward', 'at', 'a'): 1,\n",
              " ('at', 'a', 'good'): 1,\n",
              " ('a', 'good', 'walk'): 1,\n",
              " ('good', 'walk', 'and'): 1,\n",
              " ('walk', 'and', 'the'): 1,\n",
              " ('and', 'the', 'other'): 2,\n",
              " ('the', 'other', 'a'): 1,\n",
              " ('other', 'a', 'girl'): 1,\n",
              " ('a', 'girl', 'of'): 1,\n",
              " ('girl', 'of', 'maybe'): 1,\n",
              " ('of', 'maybe', 'eight'): 1,\n",
              " ('maybe', 'eight', 'or'): 1,\n",
              " ('eight', 'or', 'ten'): 1,\n",
              " ('or', 'ten', 'who'): 1,\n",
              " ('ten', 'who', 'was'): 1,\n",
              " ('who', 'was', 'running'): 1,\n",
              " ('was', 'running', 'as'): 1,\n",
              " ('running', 'as', 'hard'): 1,\n",
              " ('as', 'hard', 'as'): 1,\n",
              " ('hard', 'as', 'she'): 1,\n",
              " ('as', 'she', 'was'): 1,\n",
              " ('she', 'was', 'able'): 1,\n",
              " ('was', 'able', 'down'): 1,\n",
              " ('able', 'down', 'a'): 1,\n",
              " ('down', 'a', 'cross'): 1,\n",
              " ('a', 'cross', 'street'): 1,\n",
              " ('cross', 'street', 'well'): 1,\n",
              " ('street', 'well', 'sir'): 1,\n",
              " ('well', 'sir', 'the'): 1,\n",
              " ('sir', 'the', 'two'): 1,\n",
              " ('the', 'two', 'ran'): 1,\n",
              " ('two', 'ran', 'into'): 1,\n",
              " ('ran', 'into', 'one'): 1,\n",
              " ('into', 'one', 'another'): 1,\n",
              " ('one', 'another', 'naturally'): 1,\n",
              " ('another', 'naturally', 'enough'): 1,\n",
              " ('naturally', 'enough', 'at'): 1,\n",
              " ('enough', 'at', 'the'): 1,\n",
              " ('at', 'the', 'corner'): 1,\n",
              " ('the', 'corner', 'and'): 1,\n",
              " ('corner', 'and', 'then'): 1,\n",
              " ('and', 'then', 'came'): 1,\n",
              " ('then', 'came', 'the'): 1,\n",
              " ('came', 'the', 'horrible'): 1,\n",
              " ('the', 'horrible', 'part'): 1,\n",
              " ('horrible', 'part', 'of'): 1,\n",
              " ('part', 'of', 'the'): 4,\n",
              " ('of', 'the', 'thing'): 1,\n",
              " ('the', 'thing', 'for'): 1,\n",
              " ('thing', 'for', 'the'): 1,\n",
              " ...}"
            ]
          },
          "metadata": {},
          "execution_count": 95
        }
      ],
      "source": [
        "trigram_counter = {}\n",
        "window = []\n",
        "\n",
        "for line in open(filename):\n",
        "    for word in split_line(line):\n",
        "        word = clean_word(word)\n",
        "        process_word_trigram(word)\n",
        "\n",
        "trigram_counter"
      ]
    },
    {
      "cell_type": "markdown",
      "id": "35d37fa1",
      "metadata": {
        "tags": [],
        "id": "35d37fa1"
      },
      "source": [
        "Then use `print_most_common` to find the most common trigrams in the book."
      ]
    },
    {
      "cell_type": "code",
      "execution_count": 96,
      "id": "44c3f0d8",
      "metadata": {
        "tags": [],
        "id": "44c3f0d8",
        "outputId": "bffbe3e2-4dc1-416f-ad2a-135290505d57",
        "colab": {
          "base_uri": "https://localhost:8080/"
        }
      },
      "outputs": [
        {
          "output_type": "stream",
          "name": "stdout",
          "text": [
            "20\t('said', 'the', 'lawyer')\n",
            "16\t('said', 'mr', 'utterson')\n",
            "15\t('of', 'edward', 'hyde')\n",
            "13\t('the', 'name', 'of')\n",
            "11\t('it', 'was', 'a')\n"
          ]
        }
      ],
      "source": [
        "print_most_common(trigram_counter)"
      ]
    },
    {
      "cell_type": "markdown",
      "id": "4bd07bb7",
      "metadata": {
        "id": "4bd07bb7"
      },
      "source": [
        "### Exercise\n",
        "\n",
        "Now let's implement Markov chain text analysis with a mapping from each bigram to a list of possible successors.\n",
        "\n",
        "Starting with `add_bigram`, write a function called `add_trigram` that takes a list of three words and either adds or updates an item in `successor_map`, using the first two words as the key and the third word as a possible successor."
      ]
    },
    {
      "cell_type": "code",
      "execution_count": null,
      "id": "3fcf85f4",
      "metadata": {
        "id": "3fcf85f4"
      },
      "outputs": [],
      "source": [
        "# Solution goes here"
      ]
    },
    {
      "cell_type": "markdown",
      "id": "94d683fe",
      "metadata": {
        "id": "94d683fe"
      },
      "source": [
        "Here's a version of `process_word_trigram` that calls `add_trigram`."
      ]
    },
    {
      "cell_type": "code",
      "execution_count": null,
      "id": "d9e554e3",
      "metadata": {
        "id": "d9e554e3"
      },
      "outputs": [],
      "source": [
        "def process_word_trigram(word):\n",
        "    window.append(word)\n",
        "\n",
        "    if len(window) == 3:\n",
        "        add_trigram(window)\n",
        "        window.pop(0)"
      ]
    },
    {
      "cell_type": "markdown",
      "id": "82eeed41",
      "metadata": {
        "tags": [],
        "id": "82eeed41"
      },
      "source": [
        "You can use the following loop to test your function with the lyrics of \"Eric, the Half a Bee\"."
      ]
    },
    {
      "cell_type": "code",
      "execution_count": null,
      "id": "8c2ee21c",
      "metadata": {
        "tags": [],
        "id": "8c2ee21c"
      },
      "outputs": [],
      "source": [
        "successor_map = {}\n",
        "window = []\n",
        "\n",
        "for string in song.split():\n",
        "    word = string.strip(punctuation).lower()\n",
        "    process_word_trigram(word)"
      ]
    },
    {
      "cell_type": "markdown",
      "id": "8829d4c2",
      "metadata": {
        "tags": [],
        "id": "8829d4c2"
      },
      "source": [
        "If your function works as intended, the predecessor `('half', 'a')` should map to a list with the single element `'bee'`.\n",
        "In fact, as it happens, each bigram in this song appear only once, so all of the values in `successor_map` have a single element."
      ]
    },
    {
      "cell_type": "code",
      "execution_count": null,
      "id": "b13384e3",
      "metadata": {
        "tags": [],
        "id": "b13384e3"
      },
      "outputs": [],
      "source": [
        "successor_map"
      ]
    },
    {
      "cell_type": "markdown",
      "id": "886212b5",
      "metadata": {
        "id": "886212b5"
      },
      "source": [
        "You can use the following loop to test your function with the words from the book."
      ]
    },
    {
      "cell_type": "code",
      "execution_count": null,
      "id": "62c2177f",
      "metadata": {
        "id": "62c2177f"
      },
      "outputs": [],
      "source": [
        "successor_map = {}\n",
        "window = []\n",
        "\n",
        "for line in open(filename):\n",
        "    for word in split_line(line):\n",
        "        word = clean_word(word)\n",
        "        process_word_trigram(word)"
      ]
    },
    {
      "cell_type": "markdown",
      "id": "3e1d073e",
      "metadata": {
        "id": "3e1d073e"
      },
      "source": [
        "In the next exercise, you'll use the results to generate new random text."
      ]
    },
    {
      "cell_type": "markdown",
      "id": "04d7a6ee",
      "metadata": {
        "id": "04d7a6ee"
      },
      "source": [
        "### Exercise\n",
        "\n",
        "For this exercise, we'll assume that `successor_map` is a dictionary that maps from each bigram to the list of words that follow it."
      ]
    },
    {
      "cell_type": "code",
      "execution_count": null,
      "id": "64e11f26",
      "metadata": {
        "tags": [],
        "id": "64e11f26"
      },
      "outputs": [],
      "source": [
        "# this cell initializes the random number generator so it\n",
        "# starts at the same point in the sequence each time this\n",
        "# notebook runs.\n",
        "\n",
        "random.seed(3)"
      ]
    },
    {
      "cell_type": "markdown",
      "id": "fb0f8f7d",
      "metadata": {
        "id": "fb0f8f7d"
      },
      "source": [
        "To generate random text, we'll start by choosing a random key from `successor_map`."
      ]
    },
    {
      "cell_type": "code",
      "execution_count": null,
      "id": "fe2d93fa",
      "metadata": {
        "id": "fe2d93fa"
      },
      "outputs": [],
      "source": [
        "successors = list(successor_map)\n",
        "bigram = random.choice(successors)\n",
        "bigram"
      ]
    },
    {
      "cell_type": "markdown",
      "id": "83ed6c7e",
      "metadata": {
        "id": "83ed6c7e"
      },
      "source": [
        "Now write a loop that generates 50 more words following these steps:\n",
        "\n",
        "1. In `successor_map`, look up the list of words that can follow `bigram`.\n",
        "\n",
        "2. Choose one of them at random and print it.\n",
        "\n",
        "3. For the next iteration, make a new bigram that contains the second word from `bigram` and the chosen successor.\n",
        "\n",
        "For example, if we start with the bigram `('doubted', 'if')` and choose `'from'` as its successor, the next bigram is `('if', 'from')`."
      ]
    },
    {
      "cell_type": "code",
      "execution_count": null,
      "id": "22210a5c",
      "metadata": {
        "id": "22210a5c"
      },
      "outputs": [],
      "source": [
        "# Solution goes here"
      ]
    },
    {
      "cell_type": "markdown",
      "id": "c71d8a89",
      "metadata": {
        "id": "c71d8a89"
      },
      "source": [
        "If everything is working, you should find that the generated text is recognizably similar in style to the original, and some phrases make sense, but the text might wander from one topic to another.\n",
        "\n",
        "As a bonus exercise, modify your solution to the last two exercises to use trigrams as keys in `successor_map`, and see what effect it has on the results."
      ]
    },
    {
      "cell_type": "code",
      "execution_count": null,
      "id": "3d4efda7",
      "metadata": {
        "id": "3d4efda7"
      },
      "outputs": [],
      "source": []
    },
    {
      "cell_type": "markdown",
      "id": "a7f4edf8",
      "metadata": {
        "tags": [],
        "id": "a7f4edf8"
      },
      "source": [
        "[Think Python: 3rd Edition](https://allendowney.github.io/ThinkPython/index.html)\n",
        "\n",
        "Copyright 2024 [Allen B. Downey](https://allendowney.com)\n",
        "\n",
        "Code license: [MIT License](https://mit-license.org/)\n",
        "\n",
        "Text license: [Creative Commons Attribution-NonCommercial-ShareAlike 4.0 International](https://creativecommons.org/licenses/by-nc-sa/4.0/)"
      ]
    }
  ],
  "metadata": {
    "celltoolbar": "Tags",
    "kernelspec": {
      "display_name": "Python 3 (ipykernel)",
      "language": "python",
      "name": "python3"
    },
    "language_info": {
      "codemirror_mode": {
        "name": "ipython",
        "version": 3
      },
      "file_extension": ".py",
      "mimetype": "text/x-python",
      "name": "python",
      "nbconvert_exporter": "python",
      "pygments_lexer": "ipython3",
      "version": "3.10.11"
    },
    "colab": {
      "provenance": []
    }
  },
  "nbformat": 4,
  "nbformat_minor": 5
}